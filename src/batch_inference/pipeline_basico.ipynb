{
 "cells": [
  {
   "cell_type": "code",
   "execution_count": 3,
   "id": "3e64f74b-ae16-4a86-b06a-00b974c068d1",
   "metadata": {
    "execution": {
     "iopub.execute_input": "2025-06-05T03:49:26.554621Z",
     "iopub.status.busy": "2025-06-05T03:49:26.554335Z",
     "iopub.status.idle": "2025-06-05T03:49:26.558290Z",
     "shell.execute_reply": "2025-06-05T03:49:26.557554Z",
     "shell.execute_reply.started": "2025-06-05T03:49:26.554598Z"
    }
   },
   "outputs": [],
   "source": [
    "from sagemaker.workflow.function_step import step\n",
    "from sagemaker.workflow.pipeline import Pipeline\n",
    "import sagemaker\n",
    "from sagemaker.workflow.parameters import ParameterInteger\n",
    "import utils"
   ]
  },
  {
   "cell_type": "markdown",
   "id": "6f9c4deb-e967-49b7-891a-2cda3fd68a21",
   "metadata": {},
   "source": [
    "# FUNCIONES"
   ]
  },
  {
   "cell_type": "code",
   "execution_count": 4,
   "id": "710ee9eb-0778-4b21-b5d4-42bf81b4d2f0",
   "metadata": {
    "execution": {
     "iopub.execute_input": "2025-06-05T03:49:28.888497Z",
     "iopub.status.busy": "2025-06-05T03:49:28.888059Z",
     "iopub.status.idle": "2025-06-05T03:49:29.047314Z",
     "shell.execute_reply": "2025-06-05T03:49:29.046603Z",
     "shell.execute_reply.started": "2025-06-05T03:49:28.888468Z"
    }
   },
   "outputs": [],
   "source": [
    "user = utils.get_username()\n",
    "pipeline_name = f\"pipeline-basico-{user}\"\n",
    "role = sagemaker.get_execution_role()\n",
    "#instance_type = \"ml.m5.xlarge\"\n",
    "#instance_type = \"ml.t3.medium\"\n",
    "instance_type = \"ml.m5.large\"\n",
    "periodo = ParameterInteger(name=\"PeriodoCarga\", default_value=202503)"
   ]
  },
  {
   "cell_type": "code",
   "execution_count": 5,
   "id": "dd6b0ad0-1479-428f-a620-c4ac24c54510",
   "metadata": {
    "execution": {
     "iopub.execute_input": "2025-06-05T03:49:35.666610Z",
     "iopub.status.busy": "2025-06-05T03:49:35.666213Z",
     "iopub.status.idle": "2025-06-05T03:49:35.671195Z",
     "shell.execute_reply": "2025-06-05T03:49:35.670463Z",
     "shell.execute_reply.started": "2025-06-05T03:49:35.666586Z"
    }
   },
   "outputs": [],
   "source": [
    "@step(\n",
    "    name=\"DataPull\",\n",
    "    instance_type=instance_type,\n",
    ")\n",
    "def data_pull(data_source: str, periodo: int) -> tuple[str, str]:\n",
    "    print(f\"Data pull from {data_source}\")\n",
    "    print(f\"Periodo:{periodo}\")\n",
    "    return \"s3://train_path\", \"s3://test_path\""
   ]
  },
  {
   "cell_type": "code",
   "execution_count": 6,
   "id": "25a09b95-69a5-4cf8-8634-7026d3f392ce",
   "metadata": {
    "execution": {
     "iopub.execute_input": "2025-06-05T03:49:38.115890Z",
     "iopub.status.busy": "2025-06-05T03:49:38.115621Z",
     "iopub.status.idle": "2025-06-05T03:49:38.119779Z",
     "shell.execute_reply": "2025-06-05T03:49:38.119075Z",
     "shell.execute_reply.started": "2025-06-05T03:49:38.115870Z"
    }
   },
   "outputs": [],
   "source": [
    "@step(\n",
    "    name=\"ModelTraining\",\n",
    "    instance_type=instance_type,\n",
    ")\n",
    "def model_training(train_path: str, test_path: str, periodo: int) -> str:\n",
    "    print(f\"Train set: {train_path} and test set:{test_path}\")\n",
    "    print(f\"Periodo:{periodo}\")\n",
    "    return \"model_path\""
   ]
  },
  {
   "cell_type": "code",
   "execution_count": 7,
   "id": "7efba39c-cca8-4492-9931-79c794be68ea",
   "metadata": {
    "execution": {
     "iopub.execute_input": "2025-06-05T03:49:41.024478Z",
     "iopub.status.busy": "2025-06-05T03:49:41.023934Z",
     "iopub.status.idle": "2025-06-05T03:49:41.032003Z",
     "shell.execute_reply": "2025-06-05T03:49:41.030705Z",
     "shell.execute_reply.started": "2025-06-05T03:49:41.024447Z"
    }
   },
   "outputs": [],
   "source": [
    "data_pull_step = data_pull(\"s3:mybucket/data\", periodo)\n",
    "model_training_step = model_training(data_pull_step[0],\n",
    "                                     data_pull_step[1], periodo)"
   ]
  },
  {
   "cell_type": "code",
   "execution_count": 8,
   "id": "525b4bb2-0019-4d97-9a9e-9d7dfb55f674",
   "metadata": {
    "execution": {
     "iopub.execute_input": "2025-06-05T03:49:43.736770Z",
     "iopub.status.busy": "2025-06-05T03:49:43.736049Z",
     "iopub.status.idle": "2025-06-05T03:49:45.334417Z",
     "shell.execute_reply": "2025-06-05T03:49:45.333597Z",
     "shell.execute_reply.started": "2025-06-05T03:49:43.736743Z"
    }
   },
   "outputs": [
    {
     "name": "stderr",
     "output_type": "stream",
     "text": [
      "2025-06-05 03:49:44,145 sagemaker.remote_function INFO     Uploading serialized function code to s3://sagemaker-us-east-1-654654589924/pipeline-basico-ricardo-puma/DataPull/2025-06-05-03-49-43-898/function\n",
      "2025-06-05 03:49:44,225 sagemaker.remote_function INFO     Uploading serialized function arguments to s3://sagemaker-us-east-1-654654589924/pipeline-basico-ricardo-puma/DataPull/2025-06-05-03-49-43-898/arguments\n",
      "WARNING:sagemaker.workflow.utilities:Popping out 'TrainingJobName' from the pipeline definition by default since it will be overridden at pipeline execution time. Please utilize the PipelineDefinitionConfig to persist this field in the pipeline definition if desired.\n",
      "2025-06-05 03:49:44,723 sagemaker.remote_function INFO     Uploading serialized function code to s3://sagemaker-us-east-1-654654589924/pipeline-basico-ricardo-puma/ModelTraining/2025-06-05-03-49-43-898/function\n",
      "2025-06-05 03:49:44,820 sagemaker.remote_function INFO     Uploading serialized function arguments to s3://sagemaker-us-east-1-654654589924/pipeline-basico-ricardo-puma/ModelTraining/2025-06-05-03-49-43-898/arguments\n",
      "WARNING:sagemaker.workflow.utilities:Popping out 'TrainingJobName' from the pipeline definition by default since it will be overridden at pipeline execution time. Please utilize the PipelineDefinitionConfig to persist this field in the pipeline definition if desired.\n"
     ]
    },
    {
     "data": {
      "text/plain": [
       "{'PipelineArn': 'arn:aws:sagemaker:us-east-1:654654589924:pipeline/pipeline-basico-ricardo-puma',\n",
       " 'ResponseMetadata': {'RequestId': '0a953af1-e95c-470f-97b6-de381781d28c',\n",
       "  'HTTPStatusCode': 200,\n",
       "  'HTTPHeaders': {'x-amzn-requestid': '0a953af1-e95c-470f-97b6-de381781d28c',\n",
       "   'content-type': 'application/x-amz-json-1.1',\n",
       "   'content-length': '96',\n",
       "   'date': 'Thu, 05 Jun 2025 03:49:45 GMT'},\n",
       "  'RetryAttempts': 0}}"
      ]
     },
     "execution_count": 8,
     "metadata": {},
     "output_type": "execute_result"
    }
   ],
   "source": [
    "pipeline = Pipeline(name=pipeline_name, steps=[data_pull_step, model_training_step],parameters=[periodo])\n",
    "pipeline.upsert(role_arn=role)"
   ]
  },
  {
   "cell_type": "code",
   "execution_count": 9,
   "id": "8a16eec8-8a74-4cdc-99d9-9f5291ebb63b",
   "metadata": {
    "execution": {
     "iopub.execute_input": "2025-06-05T03:50:02.236685Z",
     "iopub.status.busy": "2025-06-05T03:50:02.225552Z",
     "iopub.status.idle": "2025-06-05T03:50:02.531064Z",
     "shell.execute_reply": "2025-06-05T03:50:02.526735Z",
     "shell.execute_reply.started": "2025-06-05T03:50:02.235928Z"
    }
   },
   "outputs": [
    {
     "data": {
      "text/plain": [
       "_PipelineExecution(arn='arn:aws:sagemaker:us-east-1:654654589924:pipeline/pipeline-basico-ricardo-puma/execution/ml18fm4wl7ca', sagemaker_session=<sagemaker.session.Session object at 0x7f364755c0e0>)"
      ]
     },
     "execution_count": 9,
     "metadata": {},
     "output_type": "execute_result"
    }
   ],
   "source": [
    "pipeline.start(parameters={\"PeriodoCarga\":202505})"
   ]
  },
  {
   "cell_type": "code",
   "execution_count": null,
   "id": "166e793a-7882-4a82-9f27-664d1f38f037",
   "metadata": {},
   "outputs": [],
   "source": [
    "#execution = pipeline.start()\n",
    "#execution.describe()\n",
    "#execution.wait()\n",
    "#execution.list_steps()"
   ]
  }
 ],
 "metadata": {
  "kernelspec": {
   "display_name": "Python 3 (ipykernel)",
   "language": "python",
   "name": "python3"
  },
  "language_info": {
   "codemirror_mode": {
    "name": "ipython",
    "version": 3
   },
   "file_extension": ".py",
   "mimetype": "text/x-python",
   "name": "python",
   "nbconvert_exporter": "python",
   "pygments_lexer": "ipython3",
   "version": "3.12.9"
  }
 },
 "nbformat": 4,
 "nbformat_minor": 5
}
