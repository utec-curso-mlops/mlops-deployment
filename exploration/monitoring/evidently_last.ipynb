{
 "cells": [
  {
   "cell_type": "code",
   "execution_count": 1,
   "id": "a706ff57-50d3-4c31-af39-e798e3b55a38",
   "metadata": {
    "execution": {
     "iopub.execute_input": "2025-06-24T00:31:34.478018Z",
     "iopub.status.busy": "2025-06-24T00:31:34.477596Z",
     "iopub.status.idle": "2025-06-24T00:31:56.214341Z",
     "shell.execute_reply": "2025-06-24T00:31:56.213342Z",
     "shell.execute_reply.started": "2025-06-24T00:31:34.477983Z"
    }
   },
   "outputs": [
    {
     "name": "stdout",
     "output_type": "stream",
     "text": [
      "\u001b[31mERROR: pip's dependency resolver does not currently take into account all the packages that are installed. This behaviour is the source of the following dependency conflicts.\n",
      "dash 2.18.1 requires dash-core-components==2.0.0, which is not installed.\n",
      "dash 2.18.1 requires dash-html-components==2.0.0, which is not installed.\n",
      "dash 2.18.1 requires dash-table==5.0.0, which is not installed.\n",
      "dash 2.18.1 requires Flask<3.1,>=1.0.4, but you have flask 3.1.0 which is incompatible.\n",
      "dash 2.18.1 requires Werkzeug<3.1, but you have werkzeug 3.1.3 which is incompatible.\n",
      "sparkmagic 0.21.0 requires pandas<2.0.0,>=0.17.1, but you have pandas 2.2.3 which is incompatible.\u001b[0m\u001b[31m\n",
      "\u001b[0m"
     ]
    }
   ],
   "source": [
    "!pip install awswrangler==3.12.0 evidently==0.7.8 -q"
   ]
  },
  {
   "cell_type": "code",
   "execution_count": null,
   "id": "6cd1ba5e",
   "metadata": {},
   "outputs": [],
   "source": [
    "from monitoring_utils import get_username"
   ]
  },
  {
   "cell_type": "markdown",
   "id": "7e45269c-9ea5-4333-a6d6-b02e5bfec975",
   "metadata": {},
   "source": [
    "# GLOBAL VARIABLES"
   ]
  },
  {
   "cell_type": "code",
   "execution_count": null,
   "id": "f142729b-f228-4cbc-90f7-e2cae34d083a",
   "metadata": {
    "execution": {
     "iopub.execute_input": "2025-06-24T04:15:17.777374Z",
     "iopub.status.busy": "2025-06-24T04:15:17.776973Z",
     "iopub.status.idle": "2025-06-24T04:15:17.781260Z",
     "shell.execute_reply": "2025-06-24T04:15:17.780487Z",
     "shell.execute_reply.started": "2025-06-24T04:15:17.777346Z"
    }
   },
   "outputs": [],
   "source": [
    "# Username \n",
    "USERNAME = get_username()\n",
    "# Evidently workspace\n",
    "workspace = \"https://nahpmgpxmm.us-east-1.awsapprunner.com\"\n",
    "\n",
    "# Training variables\n",
    "TARGET_COL = \"is_fraud\"\n",
    "SEED = 42\n",
    "TRAIN_SPLIT = 0.7\n",
    "FEATURES = ['card_present', 'trx_vel_last_1mths', 'trx_vel_last_2mths',\n",
    "            'amt_vel_last_1mths', 'amt_vel_last_2mths']"
   ]
  },
  {
   "cell_type": "markdown",
   "id": "2d1e1434-0c04-42fc-b23f-db1c62ad7fdf",
   "metadata": {},
   "source": [
    "# PROJECT CREATION OR LOADING"
   ]
  },
  {
   "cell_type": "code",
   "execution_count": 4,
   "id": "6461f852-ddba-4d51-a088-1187ca55432f",
   "metadata": {
    "execution": {
     "iopub.execute_input": "2025-06-24T04:15:45.074795Z",
     "iopub.status.busy": "2025-06-24T04:15:45.074526Z",
     "iopub.status.idle": "2025-06-24T04:15:51.143531Z",
     "shell.execute_reply": "2025-06-24T04:15:51.142716Z",
     "shell.execute_reply.started": "2025-06-24T04:15:45.074775Z"
    }
   },
   "outputs": [
    {
     "name": "stderr",
     "output_type": "stream",
     "text": [
      "/opt/conda/lib/python3.12/site-packages/evidently/core/metric_types.py:376: FutureWarning: In the future `np.bool` will be defined as the corresponding NumPy scalar.\n",
      "  np_bool = np.bool  # type: ignore[attr-defined]\n"
     ]
    }
   ],
   "source": [
    "from evidently.ui.workspace import RemoteWorkspace"
   ]
  },
  {
   "cell_type": "code",
   "execution_count": 5,
   "id": "a169d9cb-6882-4285-85fc-f96a0c5e1516",
   "metadata": {
    "execution": {
     "iopub.execute_input": "2025-06-24T04:15:51.146469Z",
     "iopub.status.busy": "2025-06-24T04:15:51.145955Z",
     "iopub.status.idle": "2025-06-24T04:15:51.168398Z",
     "shell.execute_reply": "2025-06-24T04:15:51.167607Z",
     "shell.execute_reply.started": "2025-06-24T04:15:51.146446Z"
    }
   },
   "outputs": [],
   "source": [
    "ws = RemoteWorkspace(workspace)"
   ]
  },
  {
   "cell_type": "code",
   "execution_count": 6,
   "id": "a9fee680-4da9-4cf1-b4c0-63a22f99592c",
   "metadata": {
    "execution": {
     "iopub.execute_input": "2025-06-24T04:15:51.169555Z",
     "iopub.status.busy": "2025-06-24T04:15:51.169227Z",
     "iopub.status.idle": "2025-06-24T04:15:51.186517Z",
     "shell.execute_reply": "2025-06-24T04:15:51.185832Z",
     "shell.execute_reply.started": "2025-06-24T04:15:51.169532Z"
    }
   },
   "outputs": [
    {
     "name": "stdout",
     "output_type": "stream",
     "text": [
      "Project already exists\n"
     ]
    }
   ],
   "source": [
    "project_name = \"Monitoreo de Sistema de Detección de Fraude en TC\"\n",
    "project_description = \"Este proyecto monitorea tanto la data como el modelo del sistema de ML de fraude\" \n",
    "project = ws.search_project(project_name)\n",
    "if project:\n",
    "    project = project[0]\n",
    "    print(\"Project already exists\")\n",
    "else:\n",
    "    print(\"Creating new project\")\n",
    "    project = ws.create_project(project_name)\n",
    "    project.description = project_description\n",
    "    project.save()\n",
    "#ws.delete_project(project.id)"
   ]
  },
  {
   "cell_type": "markdown",
   "id": "b22124ea-4de5-452f-bf1f-5279adb91404",
   "metadata": {},
   "source": [
    "# DATA PULL"
   ]
  },
  {
   "cell_type": "code",
   "execution_count": 7,
   "id": "bc1d10a4-3e7a-47fa-aea5-5a4a6db8becd",
   "metadata": {
    "execution": {
     "iopub.execute_input": "2025-06-24T04:15:51.187758Z",
     "iopub.status.busy": "2025-06-24T04:15:51.187502Z",
     "iopub.status.idle": "2025-06-24T04:15:52.511495Z",
     "shell.execute_reply": "2025-06-24T04:15:52.510797Z",
     "shell.execute_reply.started": "2025-06-24T04:15:51.187737Z"
    }
   },
   "outputs": [],
   "source": [
    "import awswrangler as wr\n",
    "from evidently.presets import DataSummaryPreset\n",
    "from evidently import Dataset\n",
    "from evidently import DataDefinition\n",
    "from evidently import Report"
   ]
  },
  {
   "cell_type": "code",
   "execution_count": 8,
   "id": "6584d3e7-32c7-469a-bff8-fe4bb3a07ec8",
   "metadata": {
    "execution": {
     "iopub.execute_input": "2025-06-24T04:15:52.514063Z",
     "iopub.status.busy": "2025-06-24T04:15:52.513494Z",
     "iopub.status.idle": "2025-06-24T04:15:52.517265Z",
     "shell.execute_reply": "2025-06-24T04:15:52.516419Z",
     "shell.execute_reply.started": "2025-06-24T04:15:52.514032Z"
    }
   },
   "outputs": [],
   "source": [
    "periodo_carga_inicio = 202412\n",
    "periodo_carga_fin = 202412"
   ]
  },
  {
   "cell_type": "code",
   "execution_count": 9,
   "id": "adf41ecd-a06d-40bf-b0e1-91a47e0416ab",
   "metadata": {
    "execution": {
     "iopub.execute_input": "2025-06-24T04:15:52.519121Z",
     "iopub.status.busy": "2025-06-24T04:15:52.518537Z",
     "iopub.status.idle": "2025-06-24T04:15:52.526599Z",
     "shell.execute_reply": "2025-06-24T04:15:52.525907Z",
     "shell.execute_reply.started": "2025-06-24T04:15:52.519090Z"
    }
   },
   "outputs": [
    {
     "data": {
      "text/plain": [
       "'\\n    SELECT  transaction_id\\n            ,amount\\n            ,merchant_category\\n            ,merchant_country\\n            ,card_present\\n            ,is_fraud\\n            ,cod_month\\n            ,trx_vel_last_1mths\\n            ,trx_vel_last_2mths\\n            ,amt_vel_last_1mths\\n            ,amt_vel_last_2mths\\n    FROM    RISK_MANAGEMENT.CREDIT_CARD_TRANSACTIONS\\n    WHERE   cod_month between 202412 and 202412\\n    '"
      ]
     },
     "execution_count": 9,
     "metadata": {},
     "output_type": "execute_result"
    }
   ],
   "source": [
    "query = \"\"\"\n",
    "    SELECT  transaction_id\n",
    "            ,amount\n",
    "            ,merchant_category\n",
    "            ,merchant_country\n",
    "            ,card_present\n",
    "            ,is_fraud\n",
    "            ,cod_month\n",
    "            ,trx_vel_last_1mths\n",
    "            ,trx_vel_last_2mths\n",
    "            ,amt_vel_last_1mths\n",
    "            ,amt_vel_last_2mths\n",
    "    FROM    RISK_MANAGEMENT.CREDIT_CARD_TRANSACTIONS\n",
    "    WHERE   cod_month between {} and {}\n",
    "    \"\"\".format(periodo_carga_inicio, periodo_carga_fin)\n",
    "query"
   ]
  },
  {
   "cell_type": "code",
   "execution_count": 10,
   "id": "85a5b8fc-9caa-46a5-b89c-3b19aee59556",
   "metadata": {
    "execution": {
     "iopub.execute_input": "2025-06-24T04:15:52.528208Z",
     "iopub.status.busy": "2025-06-24T04:15:52.527748Z",
     "iopub.status.idle": "2025-06-24T04:16:02.417483Z",
     "shell.execute_reply": "2025-06-24T04:16:02.416534Z",
     "shell.execute_reply.started": "2025-06-24T04:15:52.528187Z"
    }
   },
   "outputs": [
    {
     "name": "stderr",
     "output_type": "stream",
     "text": [
      "2025-06-24 04:15:58,794\tWARNING services.py:2070 -- WARNING: The object store is using /tmp instead of /dev/shm because /dev/shm has only 411017216 bytes available. This will harm performance! You may be able to free up space by deleting files in /dev/shm. If you are inside a Docker container, you can increase /dev/shm size by passing '--shm-size=0.98gb' to 'docker run' (or add it to the run_options list in a Ray cluster config). Make sure to set this to more than 30% of available RAM.\n",
      "2025-06-24 04:15:59,873\tINFO worker.py:1852 -- Started a local Ray instance.\n"
     ]
    }
   ],
   "source": [
    "df = wr.athena.read_sql_query(sql=query, database=\"risk_management\")"
   ]
  },
  {
   "cell_type": "code",
   "execution_count": 11,
   "id": "1c242427-6101-44b6-a317-548c2a51901b",
   "metadata": {
    "execution": {
     "iopub.execute_input": "2025-06-24T04:16:02.428026Z",
     "iopub.status.busy": "2025-06-24T04:16:02.427682Z",
     "iopub.status.idle": "2025-06-24T04:16:02.542232Z",
     "shell.execute_reply": "2025-06-24T04:16:02.541441Z",
     "shell.execute_reply.started": "2025-06-24T04:16:02.427997Z"
    }
   },
   "outputs": [],
   "source": [
    "# Casting variables\n",
    "df[TARGET_COL] = df[TARGET_COL].astype(str)\n",
    "df[\"card_present\"] = df[\"card_present\"].astype(str).astype('category')\n",
    "df[\"trx_vel_last_1mths\"] = df[\"trx_vel_last_1mths\"].astype(\"float32\")\n",
    "df[\"trx_vel_last_2mths\"] = df[\"trx_vel_last_2mths\"].astype(\"float32\")"
   ]
  },
  {
   "cell_type": "code",
   "execution_count": 12,
   "id": "665aa590-7d3a-42f8-9f58-752d7ca7bc75",
   "metadata": {
    "execution": {
     "iopub.execute_input": "2025-06-24T04:16:02.543674Z",
     "iopub.status.busy": "2025-06-24T04:16:02.543339Z",
     "iopub.status.idle": "2025-06-24T04:16:02.562296Z",
     "shell.execute_reply": "2025-06-24T04:16:02.561374Z",
     "shell.execute_reply.started": "2025-06-24T04:16:02.543641Z"
    }
   },
   "outputs": [
    {
     "data": {
      "text/html": [
       "<div>\n",
       "<style scoped>\n",
       "    .dataframe tbody tr th:only-of-type {\n",
       "        vertical-align: middle;\n",
       "    }\n",
       "\n",
       "    .dataframe tbody tr th {\n",
       "        vertical-align: top;\n",
       "    }\n",
       "\n",
       "    .dataframe thead th {\n",
       "        text-align: right;\n",
       "    }\n",
       "</style>\n",
       "<table border=\"1\" class=\"dataframe\">\n",
       "  <thead>\n",
       "    <tr style=\"text-align: right;\">\n",
       "      <th></th>\n",
       "      <th>transaction_id</th>\n",
       "      <th>amount</th>\n",
       "      <th>merchant_category</th>\n",
       "      <th>merchant_country</th>\n",
       "      <th>card_present</th>\n",
       "      <th>is_fraud</th>\n",
       "      <th>cod_month</th>\n",
       "      <th>trx_vel_last_1mths</th>\n",
       "      <th>trx_vel_last_2mths</th>\n",
       "      <th>amt_vel_last_1mths</th>\n",
       "      <th>amt_vel_last_2mths</th>\n",
       "    </tr>\n",
       "  </thead>\n",
       "  <tbody>\n",
       "    <tr>\n",
       "      <th>0</th>\n",
       "      <td>105bdcc07fba</td>\n",
       "      <td>131.491882</td>\n",
       "      <td>retail</td>\n",
       "      <td>CA</td>\n",
       "      <td>0</td>\n",
       "      <td>0</td>\n",
       "      <td>202412</td>\n",
       "      <td>2.0</td>\n",
       "      <td>4.0</td>\n",
       "      <td>237.101273</td>\n",
       "      <td>487.972900</td>\n",
       "    </tr>\n",
       "    <tr>\n",
       "      <th>1</th>\n",
       "      <td>18276227a494</td>\n",
       "      <td>63.524712</td>\n",
       "      <td>restaurant</td>\n",
       "      <td>US</td>\n",
       "      <td>1</td>\n",
       "      <td>0</td>\n",
       "      <td>202412</td>\n",
       "      <td>2.0</td>\n",
       "      <td>5.0</td>\n",
       "      <td>195.016602</td>\n",
       "      <td>551.497620</td>\n",
       "    </tr>\n",
       "    <tr>\n",
       "      <th>2</th>\n",
       "      <td>371d07e33364</td>\n",
       "      <td>41.115845</td>\n",
       "      <td>restaurant</td>\n",
       "      <td>US</td>\n",
       "      <td>1</td>\n",
       "      <td>0</td>\n",
       "      <td>202412</td>\n",
       "      <td>3.0</td>\n",
       "      <td>6.0</td>\n",
       "      <td>236.132446</td>\n",
       "      <td>592.613464</td>\n",
       "    </tr>\n",
       "  </tbody>\n",
       "</table>\n",
       "</div>"
      ],
      "text/plain": [
       "  transaction_id      amount merchant_category merchant_country card_present  \\\n",
       "0   105bdcc07fba  131.491882            retail               CA            0   \n",
       "1   18276227a494   63.524712        restaurant               US            1   \n",
       "2   371d07e33364   41.115845        restaurant               US            1   \n",
       "\n",
       "  is_fraud  cod_month  trx_vel_last_1mths  trx_vel_last_2mths  \\\n",
       "0        0     202412                 2.0                 4.0   \n",
       "1        0     202412                 2.0                 5.0   \n",
       "2        0     202412                 3.0                 6.0   \n",
       "\n",
       "   amt_vel_last_1mths  amt_vel_last_2mths  \n",
       "0          237.101273          487.972900  \n",
       "1          195.016602          551.497620  \n",
       "2          236.132446          592.613464  "
      ]
     },
     "execution_count": 12,
     "metadata": {},
     "output_type": "execute_result"
    }
   ],
   "source": [
    "df.head(3)"
   ]
  },
  {
   "cell_type": "code",
   "execution_count": 13,
   "id": "31d87d44-ed8c-4b8a-a433-40e8dc126088",
   "metadata": {
    "execution": {
     "iopub.execute_input": "2025-06-24T04:16:02.563922Z",
     "iopub.status.busy": "2025-06-24T04:16:02.563550Z",
     "iopub.status.idle": "2025-06-24T04:16:02.568330Z",
     "shell.execute_reply": "2025-06-24T04:16:02.567381Z",
     "shell.execute_reply.started": "2025-06-24T04:16:02.563889Z"
    }
   },
   "outputs": [],
   "source": [
    "raw_definition = DataDefinition(\n",
    "    id_column=\"transaction_id\",\n",
    "    timestamp=\"cod_month\",\n",
    "    categorical_columns=[TARGET_COL, \"card_present\",\n",
    "                         \"merchant_category\", \"merchant_country\"],\n",
    "    numerical_columns=[\"amount\", \"trx_vel_last_1mths\",\n",
    "                       \"trx_vel_last_2mths\", \"amt_vel_last_1mths\",\n",
    "                       \"amt_vel_last_2mths\"]\n",
    ")\n",
    "# https://docs.evidentlyai.com/docs/library/data_definition"
   ]
  },
  {
   "cell_type": "code",
   "execution_count": 14,
   "id": "6e240501-238d-4e5e-9a22-f63035fa55ba",
   "metadata": {
    "execution": {
     "iopub.execute_input": "2025-06-24T04:16:02.570400Z",
     "iopub.status.busy": "2025-06-24T04:16:02.569622Z",
     "iopub.status.idle": "2025-06-24T04:16:02.756575Z",
     "shell.execute_reply": "2025-06-24T04:16:02.755722Z",
     "shell.execute_reply.started": "2025-06-24T04:16:02.570366Z"
    }
   },
   "outputs": [],
   "source": [
    "dataset = Dataset.from_pandas(df, data_definition=raw_definition)"
   ]
  },
  {
   "cell_type": "code",
   "execution_count": 15,
   "id": "cc9d5760-757a-4b75-90d0-e30c769f6865",
   "metadata": {
    "execution": {
     "iopub.execute_input": "2025-06-24T04:16:02.758311Z",
     "iopub.status.busy": "2025-06-24T04:16:02.757964Z",
     "iopub.status.idle": "2025-06-24T04:16:07.412691Z",
     "shell.execute_reply": "2025-06-24T04:16:07.411836Z",
     "shell.execute_reply.started": "2025-06-24T04:16:02.758277Z"
    }
   },
   "outputs": [
    {
     "name": "stdout",
     "output_type": "stream",
     "text": [
      "Report's link: https://nahpmgpxmm.us-east-1.awsapprunner.com/projects/01979e90-bceb-72e9-ab90-5c3b49cc3896/reports/0197a026-8091-717e-b5c8-ea077ca97331\n",
      "Report's id: 0197a026-8091-717e-b5c8-ea077ca97331\n"
     ]
    }
   ],
   "source": [
    "data_summary_report = Report([DataSummaryPreset()], tags=[\"Data summary\"])\n",
    "data_summary_run = data_summary_report.run(dataset, None)\n",
    "data_summary_run.save_html(\"data_summary.html\")\n",
    "data_summary_ref = ws.add_run(project.id, data_summary_run)\n",
    "print(f\"Report's link: {data_summary_ref.url}\")\n",
    "print(f\"Report's id: {data_summary_ref.id}\")\n",
    "#ws.delete_run(project.id, data_summary_ref.id)"
   ]
  },
  {
   "cell_type": "markdown",
   "id": "d263efa0-82fd-4f57-8d5c-63dc2e1f9fee",
   "metadata": {},
   "source": [
    "# MODEL TRAINING"
   ]
  },
  {
   "cell_type": "code",
   "execution_count": 16,
   "id": "bb9b93d6-5a9c-4f8d-be5a-2e0ecdbf3d4b",
   "metadata": {
    "execution": {
     "iopub.execute_input": "2025-06-24T04:16:07.414026Z",
     "iopub.status.busy": "2025-06-24T04:16:07.413666Z",
     "iopub.status.idle": "2025-06-24T04:16:07.462138Z",
     "shell.execute_reply": "2025-06-24T04:16:07.461228Z",
     "shell.execute_reply.started": "2025-06-24T04:16:07.413938Z"
    }
   },
   "outputs": [],
   "source": [
    "from sklearn.model_selection import train_test_split\n",
    "from xgboost import XGBClassifier\n",
    "import pandas as pd\n",
    "from evidently import BinaryClassification"
   ]
  },
  {
   "cell_type": "code",
   "execution_count": 17,
   "id": "5a96f6a0-7047-499f-9494-d343fe48ae0d",
   "metadata": {
    "execution": {
     "iopub.execute_input": "2025-06-24T04:16:07.464525Z",
     "iopub.status.busy": "2025-06-24T04:16:07.464148Z",
     "iopub.status.idle": "2025-06-24T04:16:07.502539Z",
     "shell.execute_reply": "2025-06-24T04:16:07.501623Z",
     "shell.execute_reply.started": "2025-06-24T04:16:07.464501Z"
    }
   },
   "outputs": [],
   "source": [
    "X = df[FEATURES]\n",
    "y = df[TARGET_COL].astype(int)\n",
    "X_train, X_test, y_train, y_test = train_test_split(X, y,\n",
    "                                                    train_size=TRAIN_SPLIT,\n",
    "                                                    random_state=SEED)"
   ]
  },
  {
   "cell_type": "code",
   "execution_count": 18,
   "id": "ce4756b8-c9fd-4d7b-95db-055e1b5ff3a6",
   "metadata": {
    "execution": {
     "iopub.execute_input": "2025-06-24T04:16:07.503953Z",
     "iopub.status.busy": "2025-06-24T04:16:07.503577Z",
     "iopub.status.idle": "2025-06-24T04:16:08.314226Z",
     "shell.execute_reply": "2025-06-24T04:16:08.313238Z",
     "shell.execute_reply.started": "2025-06-24T04:16:07.503922Z"
    }
   },
   "outputs": [
    {
     "data": {
      "text/html": [
       "<style>#sk-container-id-1 {\n",
       "  /* Definition of color scheme common for light and dark mode */\n",
       "  --sklearn-color-text: #000;\n",
       "  --sklearn-color-text-muted: #666;\n",
       "  --sklearn-color-line: gray;\n",
       "  /* Definition of color scheme for unfitted estimators */\n",
       "  --sklearn-color-unfitted-level-0: #fff5e6;\n",
       "  --sklearn-color-unfitted-level-1: #f6e4d2;\n",
       "  --sklearn-color-unfitted-level-2: #ffe0b3;\n",
       "  --sklearn-color-unfitted-level-3: chocolate;\n",
       "  /* Definition of color scheme for fitted estimators */\n",
       "  --sklearn-color-fitted-level-0: #f0f8ff;\n",
       "  --sklearn-color-fitted-level-1: #d4ebff;\n",
       "  --sklearn-color-fitted-level-2: #b3dbfd;\n",
       "  --sklearn-color-fitted-level-3: cornflowerblue;\n",
       "\n",
       "  /* Specific color for light theme */\n",
       "  --sklearn-color-text-on-default-background: var(--sg-text-color, var(--theme-code-foreground, var(--jp-content-font-color1, black)));\n",
       "  --sklearn-color-background: var(--sg-background-color, var(--theme-background, var(--jp-layout-color0, white)));\n",
       "  --sklearn-color-border-box: var(--sg-text-color, var(--theme-code-foreground, var(--jp-content-font-color1, black)));\n",
       "  --sklearn-color-icon: #696969;\n",
       "\n",
       "  @media (prefers-color-scheme: dark) {\n",
       "    /* Redefinition of color scheme for dark theme */\n",
       "    --sklearn-color-text-on-default-background: var(--sg-text-color, var(--theme-code-foreground, var(--jp-content-font-color1, white)));\n",
       "    --sklearn-color-background: var(--sg-background-color, var(--theme-background, var(--jp-layout-color0, #111)));\n",
       "    --sklearn-color-border-box: var(--sg-text-color, var(--theme-code-foreground, var(--jp-content-font-color1, white)));\n",
       "    --sklearn-color-icon: #878787;\n",
       "  }\n",
       "}\n",
       "\n",
       "#sk-container-id-1 {\n",
       "  color: var(--sklearn-color-text);\n",
       "}\n",
       "\n",
       "#sk-container-id-1 pre {\n",
       "  padding: 0;\n",
       "}\n",
       "\n",
       "#sk-container-id-1 input.sk-hidden--visually {\n",
       "  border: 0;\n",
       "  clip: rect(1px 1px 1px 1px);\n",
       "  clip: rect(1px, 1px, 1px, 1px);\n",
       "  height: 1px;\n",
       "  margin: -1px;\n",
       "  overflow: hidden;\n",
       "  padding: 0;\n",
       "  position: absolute;\n",
       "  width: 1px;\n",
       "}\n",
       "\n",
       "#sk-container-id-1 div.sk-dashed-wrapped {\n",
       "  border: 1px dashed var(--sklearn-color-line);\n",
       "  margin: 0 0.4em 0.5em 0.4em;\n",
       "  box-sizing: border-box;\n",
       "  padding-bottom: 0.4em;\n",
       "  background-color: var(--sklearn-color-background);\n",
       "}\n",
       "\n",
       "#sk-container-id-1 div.sk-container {\n",
       "  /* jupyter's `normalize.less` sets `[hidden] { display: none; }`\n",
       "     but bootstrap.min.css set `[hidden] { display: none !important; }`\n",
       "     so we also need the `!important` here to be able to override the\n",
       "     default hidden behavior on the sphinx rendered scikit-learn.org.\n",
       "     See: https://github.com/scikit-learn/scikit-learn/issues/21755 */\n",
       "  display: inline-block !important;\n",
       "  position: relative;\n",
       "}\n",
       "\n",
       "#sk-container-id-1 div.sk-text-repr-fallback {\n",
       "  display: none;\n",
       "}\n",
       "\n",
       "div.sk-parallel-item,\n",
       "div.sk-serial,\n",
       "div.sk-item {\n",
       "  /* draw centered vertical line to link estimators */\n",
       "  background-image: linear-gradient(var(--sklearn-color-text-on-default-background), var(--sklearn-color-text-on-default-background));\n",
       "  background-size: 2px 100%;\n",
       "  background-repeat: no-repeat;\n",
       "  background-position: center center;\n",
       "}\n",
       "\n",
       "/* Parallel-specific style estimator block */\n",
       "\n",
       "#sk-container-id-1 div.sk-parallel-item::after {\n",
       "  content: \"\";\n",
       "  width: 100%;\n",
       "  border-bottom: 2px solid var(--sklearn-color-text-on-default-background);\n",
       "  flex-grow: 1;\n",
       "}\n",
       "\n",
       "#sk-container-id-1 div.sk-parallel {\n",
       "  display: flex;\n",
       "  align-items: stretch;\n",
       "  justify-content: center;\n",
       "  background-color: var(--sklearn-color-background);\n",
       "  position: relative;\n",
       "}\n",
       "\n",
       "#sk-container-id-1 div.sk-parallel-item {\n",
       "  display: flex;\n",
       "  flex-direction: column;\n",
       "}\n",
       "\n",
       "#sk-container-id-1 div.sk-parallel-item:first-child::after {\n",
       "  align-self: flex-end;\n",
       "  width: 50%;\n",
       "}\n",
       "\n",
       "#sk-container-id-1 div.sk-parallel-item:last-child::after {\n",
       "  align-self: flex-start;\n",
       "  width: 50%;\n",
       "}\n",
       "\n",
       "#sk-container-id-1 div.sk-parallel-item:only-child::after {\n",
       "  width: 0;\n",
       "}\n",
       "\n",
       "/* Serial-specific style estimator block */\n",
       "\n",
       "#sk-container-id-1 div.sk-serial {\n",
       "  display: flex;\n",
       "  flex-direction: column;\n",
       "  align-items: center;\n",
       "  background-color: var(--sklearn-color-background);\n",
       "  padding-right: 1em;\n",
       "  padding-left: 1em;\n",
       "}\n",
       "\n",
       "\n",
       "/* Toggleable style: style used for estimator/Pipeline/ColumnTransformer box that is\n",
       "clickable and can be expanded/collapsed.\n",
       "- Pipeline and ColumnTransformer use this feature and define the default style\n",
       "- Estimators will overwrite some part of the style using the `sk-estimator` class\n",
       "*/\n",
       "\n",
       "/* Pipeline and ColumnTransformer style (default) */\n",
       "\n",
       "#sk-container-id-1 div.sk-toggleable {\n",
       "  /* Default theme specific background. It is overwritten whether we have a\n",
       "  specific estimator or a Pipeline/ColumnTransformer */\n",
       "  background-color: var(--sklearn-color-background);\n",
       "}\n",
       "\n",
       "/* Toggleable label */\n",
       "#sk-container-id-1 label.sk-toggleable__label {\n",
       "  cursor: pointer;\n",
       "  display: flex;\n",
       "  width: 100%;\n",
       "  margin-bottom: 0;\n",
       "  padding: 0.5em;\n",
       "  box-sizing: border-box;\n",
       "  text-align: center;\n",
       "  align-items: start;\n",
       "  justify-content: space-between;\n",
       "  gap: 0.5em;\n",
       "}\n",
       "\n",
       "#sk-container-id-1 label.sk-toggleable__label .caption {\n",
       "  font-size: 0.6rem;\n",
       "  font-weight: lighter;\n",
       "  color: var(--sklearn-color-text-muted);\n",
       "}\n",
       "\n",
       "#sk-container-id-1 label.sk-toggleable__label-arrow:before {\n",
       "  /* Arrow on the left of the label */\n",
       "  content: \"▸\";\n",
       "  float: left;\n",
       "  margin-right: 0.25em;\n",
       "  color: var(--sklearn-color-icon);\n",
       "}\n",
       "\n",
       "#sk-container-id-1 label.sk-toggleable__label-arrow:hover:before {\n",
       "  color: var(--sklearn-color-text);\n",
       "}\n",
       "\n",
       "/* Toggleable content - dropdown */\n",
       "\n",
       "#sk-container-id-1 div.sk-toggleable__content {\n",
       "  max-height: 0;\n",
       "  max-width: 0;\n",
       "  overflow: hidden;\n",
       "  text-align: left;\n",
       "  /* unfitted */\n",
       "  background-color: var(--sklearn-color-unfitted-level-0);\n",
       "}\n",
       "\n",
       "#sk-container-id-1 div.sk-toggleable__content.fitted {\n",
       "  /* fitted */\n",
       "  background-color: var(--sklearn-color-fitted-level-0);\n",
       "}\n",
       "\n",
       "#sk-container-id-1 div.sk-toggleable__content pre {\n",
       "  margin: 0.2em;\n",
       "  border-radius: 0.25em;\n",
       "  color: var(--sklearn-color-text);\n",
       "  /* unfitted */\n",
       "  background-color: var(--sklearn-color-unfitted-level-0);\n",
       "}\n",
       "\n",
       "#sk-container-id-1 div.sk-toggleable__content.fitted pre {\n",
       "  /* unfitted */\n",
       "  background-color: var(--sklearn-color-fitted-level-0);\n",
       "}\n",
       "\n",
       "#sk-container-id-1 input.sk-toggleable__control:checked~div.sk-toggleable__content {\n",
       "  /* Expand drop-down */\n",
       "  max-height: 200px;\n",
       "  max-width: 100%;\n",
       "  overflow: auto;\n",
       "}\n",
       "\n",
       "#sk-container-id-1 input.sk-toggleable__control:checked~label.sk-toggleable__label-arrow:before {\n",
       "  content: \"▾\";\n",
       "}\n",
       "\n",
       "/* Pipeline/ColumnTransformer-specific style */\n",
       "\n",
       "#sk-container-id-1 div.sk-label input.sk-toggleable__control:checked~label.sk-toggleable__label {\n",
       "  color: var(--sklearn-color-text);\n",
       "  background-color: var(--sklearn-color-unfitted-level-2);\n",
       "}\n",
       "\n",
       "#sk-container-id-1 div.sk-label.fitted input.sk-toggleable__control:checked~label.sk-toggleable__label {\n",
       "  background-color: var(--sklearn-color-fitted-level-2);\n",
       "}\n",
       "\n",
       "/* Estimator-specific style */\n",
       "\n",
       "/* Colorize estimator box */\n",
       "#sk-container-id-1 div.sk-estimator input.sk-toggleable__control:checked~label.sk-toggleable__label {\n",
       "  /* unfitted */\n",
       "  background-color: var(--sklearn-color-unfitted-level-2);\n",
       "}\n",
       "\n",
       "#sk-container-id-1 div.sk-estimator.fitted input.sk-toggleable__control:checked~label.sk-toggleable__label {\n",
       "  /* fitted */\n",
       "  background-color: var(--sklearn-color-fitted-level-2);\n",
       "}\n",
       "\n",
       "#sk-container-id-1 div.sk-label label.sk-toggleable__label,\n",
       "#sk-container-id-1 div.sk-label label {\n",
       "  /* The background is the default theme color */\n",
       "  color: var(--sklearn-color-text-on-default-background);\n",
       "}\n",
       "\n",
       "/* On hover, darken the color of the background */\n",
       "#sk-container-id-1 div.sk-label:hover label.sk-toggleable__label {\n",
       "  color: var(--sklearn-color-text);\n",
       "  background-color: var(--sklearn-color-unfitted-level-2);\n",
       "}\n",
       "\n",
       "/* Label box, darken color on hover, fitted */\n",
       "#sk-container-id-1 div.sk-label.fitted:hover label.sk-toggleable__label.fitted {\n",
       "  color: var(--sklearn-color-text);\n",
       "  background-color: var(--sklearn-color-fitted-level-2);\n",
       "}\n",
       "\n",
       "/* Estimator label */\n",
       "\n",
       "#sk-container-id-1 div.sk-label label {\n",
       "  font-family: monospace;\n",
       "  font-weight: bold;\n",
       "  display: inline-block;\n",
       "  line-height: 1.2em;\n",
       "}\n",
       "\n",
       "#sk-container-id-1 div.sk-label-container {\n",
       "  text-align: center;\n",
       "}\n",
       "\n",
       "/* Estimator-specific */\n",
       "#sk-container-id-1 div.sk-estimator {\n",
       "  font-family: monospace;\n",
       "  border: 1px dotted var(--sklearn-color-border-box);\n",
       "  border-radius: 0.25em;\n",
       "  box-sizing: border-box;\n",
       "  margin-bottom: 0.5em;\n",
       "  /* unfitted */\n",
       "  background-color: var(--sklearn-color-unfitted-level-0);\n",
       "}\n",
       "\n",
       "#sk-container-id-1 div.sk-estimator.fitted {\n",
       "  /* fitted */\n",
       "  background-color: var(--sklearn-color-fitted-level-0);\n",
       "}\n",
       "\n",
       "/* on hover */\n",
       "#sk-container-id-1 div.sk-estimator:hover {\n",
       "  /* unfitted */\n",
       "  background-color: var(--sklearn-color-unfitted-level-2);\n",
       "}\n",
       "\n",
       "#sk-container-id-1 div.sk-estimator.fitted:hover {\n",
       "  /* fitted */\n",
       "  background-color: var(--sklearn-color-fitted-level-2);\n",
       "}\n",
       "\n",
       "/* Specification for estimator info (e.g. \"i\" and \"?\") */\n",
       "\n",
       "/* Common style for \"i\" and \"?\" */\n",
       "\n",
       ".sk-estimator-doc-link,\n",
       "a:link.sk-estimator-doc-link,\n",
       "a:visited.sk-estimator-doc-link {\n",
       "  float: right;\n",
       "  font-size: smaller;\n",
       "  line-height: 1em;\n",
       "  font-family: monospace;\n",
       "  background-color: var(--sklearn-color-background);\n",
       "  border-radius: 1em;\n",
       "  height: 1em;\n",
       "  width: 1em;\n",
       "  text-decoration: none !important;\n",
       "  margin-left: 0.5em;\n",
       "  text-align: center;\n",
       "  /* unfitted */\n",
       "  border: var(--sklearn-color-unfitted-level-1) 1pt solid;\n",
       "  color: var(--sklearn-color-unfitted-level-1);\n",
       "}\n",
       "\n",
       ".sk-estimator-doc-link.fitted,\n",
       "a:link.sk-estimator-doc-link.fitted,\n",
       "a:visited.sk-estimator-doc-link.fitted {\n",
       "  /* fitted */\n",
       "  border: var(--sklearn-color-fitted-level-1) 1pt solid;\n",
       "  color: var(--sklearn-color-fitted-level-1);\n",
       "}\n",
       "\n",
       "/* On hover */\n",
       "div.sk-estimator:hover .sk-estimator-doc-link:hover,\n",
       ".sk-estimator-doc-link:hover,\n",
       "div.sk-label-container:hover .sk-estimator-doc-link:hover,\n",
       ".sk-estimator-doc-link:hover {\n",
       "  /* unfitted */\n",
       "  background-color: var(--sklearn-color-unfitted-level-3);\n",
       "  color: var(--sklearn-color-background);\n",
       "  text-decoration: none;\n",
       "}\n",
       "\n",
       "div.sk-estimator.fitted:hover .sk-estimator-doc-link.fitted:hover,\n",
       ".sk-estimator-doc-link.fitted:hover,\n",
       "div.sk-label-container:hover .sk-estimator-doc-link.fitted:hover,\n",
       ".sk-estimator-doc-link.fitted:hover {\n",
       "  /* fitted */\n",
       "  background-color: var(--sklearn-color-fitted-level-3);\n",
       "  color: var(--sklearn-color-background);\n",
       "  text-decoration: none;\n",
       "}\n",
       "\n",
       "/* Span, style for the box shown on hovering the info icon */\n",
       ".sk-estimator-doc-link span {\n",
       "  display: none;\n",
       "  z-index: 9999;\n",
       "  position: relative;\n",
       "  font-weight: normal;\n",
       "  right: .2ex;\n",
       "  padding: .5ex;\n",
       "  margin: .5ex;\n",
       "  width: min-content;\n",
       "  min-width: 20ex;\n",
       "  max-width: 50ex;\n",
       "  color: var(--sklearn-color-text);\n",
       "  box-shadow: 2pt 2pt 4pt #999;\n",
       "  /* unfitted */\n",
       "  background: var(--sklearn-color-unfitted-level-0);\n",
       "  border: .5pt solid var(--sklearn-color-unfitted-level-3);\n",
       "}\n",
       "\n",
       ".sk-estimator-doc-link.fitted span {\n",
       "  /* fitted */\n",
       "  background: var(--sklearn-color-fitted-level-0);\n",
       "  border: var(--sklearn-color-fitted-level-3);\n",
       "}\n",
       "\n",
       ".sk-estimator-doc-link:hover span {\n",
       "  display: block;\n",
       "}\n",
       "\n",
       "/* \"?\"-specific style due to the `<a>` HTML tag */\n",
       "\n",
       "#sk-container-id-1 a.estimator_doc_link {\n",
       "  float: right;\n",
       "  font-size: 1rem;\n",
       "  line-height: 1em;\n",
       "  font-family: monospace;\n",
       "  background-color: var(--sklearn-color-background);\n",
       "  border-radius: 1rem;\n",
       "  height: 1rem;\n",
       "  width: 1rem;\n",
       "  text-decoration: none;\n",
       "  /* unfitted */\n",
       "  color: var(--sklearn-color-unfitted-level-1);\n",
       "  border: var(--sklearn-color-unfitted-level-1) 1pt solid;\n",
       "}\n",
       "\n",
       "#sk-container-id-1 a.estimator_doc_link.fitted {\n",
       "  /* fitted */\n",
       "  border: var(--sklearn-color-fitted-level-1) 1pt solid;\n",
       "  color: var(--sklearn-color-fitted-level-1);\n",
       "}\n",
       "\n",
       "/* On hover */\n",
       "#sk-container-id-1 a.estimator_doc_link:hover {\n",
       "  /* unfitted */\n",
       "  background-color: var(--sklearn-color-unfitted-level-3);\n",
       "  color: var(--sklearn-color-background);\n",
       "  text-decoration: none;\n",
       "}\n",
       "\n",
       "#sk-container-id-1 a.estimator_doc_link.fitted:hover {\n",
       "  /* fitted */\n",
       "  background-color: var(--sklearn-color-fitted-level-3);\n",
       "}\n",
       "</style><div id=\"sk-container-id-1\" class=\"sk-top-container\"><div class=\"sk-text-repr-fallback\"><pre>XGBClassifier(base_score=None, booster=None, callbacks=None,\n",
       "              colsample_bylevel=None, colsample_bynode=None,\n",
       "              colsample_bytree=None, device=None, early_stopping_rounds=None,\n",
       "              enable_categorical=True, eval_metric=None, feature_types=None,\n",
       "              gamma=None, grow_policy=None, importance_type=None,\n",
       "              interaction_constraints=None, learning_rate=None, max_bin=None,\n",
       "              max_cat_threshold=None, max_cat_to_onehot=None,\n",
       "              max_delta_step=None, max_depth=None, max_leaves=None,\n",
       "              min_child_weight=None, missing=nan, monotone_constraints=None,\n",
       "              multi_strategy=None, n_estimators=None, n_jobs=None,\n",
       "              num_parallel_tree=None, random_state=None, ...)</pre><b>In a Jupyter environment, please rerun this cell to show the HTML representation or trust the notebook. <br />On GitHub, the HTML representation is unable to render, please try loading this page with nbviewer.org.</b></div><div class=\"sk-container\" hidden><div class=\"sk-item\"><div class=\"sk-estimator fitted sk-toggleable\"><input class=\"sk-toggleable__control sk-hidden--visually\" id=\"sk-estimator-id-1\" type=\"checkbox\" checked><label for=\"sk-estimator-id-1\" class=\"sk-toggleable__label fitted sk-toggleable__label-arrow\"><div><div>XGBClassifier</div></div><div><span class=\"sk-estimator-doc-link fitted\">i<span>Fitted</span></span></div></label><div class=\"sk-toggleable__content fitted\"><pre>XGBClassifier(base_score=None, booster=None, callbacks=None,\n",
       "              colsample_bylevel=None, colsample_bynode=None,\n",
       "              colsample_bytree=None, device=None, early_stopping_rounds=None,\n",
       "              enable_categorical=True, eval_metric=None, feature_types=None,\n",
       "              gamma=None, grow_policy=None, importance_type=None,\n",
       "              interaction_constraints=None, learning_rate=None, max_bin=None,\n",
       "              max_cat_threshold=None, max_cat_to_onehot=None,\n",
       "              max_delta_step=None, max_depth=None, max_leaves=None,\n",
       "              min_child_weight=None, missing=nan, monotone_constraints=None,\n",
       "              multi_strategy=None, n_estimators=None, n_jobs=None,\n",
       "              num_parallel_tree=None, random_state=None, ...)</pre></div> </div></div></div></div>"
      ],
      "text/plain": [
       "XGBClassifier(base_score=None, booster=None, callbacks=None,\n",
       "              colsample_bylevel=None, colsample_bynode=None,\n",
       "              colsample_bytree=None, device=None, early_stopping_rounds=None,\n",
       "              enable_categorical=True, eval_metric=None, feature_types=None,\n",
       "              gamma=None, grow_policy=None, importance_type=None,\n",
       "              interaction_constraints=None, learning_rate=None, max_bin=None,\n",
       "              max_cat_threshold=None, max_cat_to_onehot=None,\n",
       "              max_delta_step=None, max_depth=None, max_leaves=None,\n",
       "              min_child_weight=None, missing=nan, monotone_constraints=None,\n",
       "              multi_strategy=None, n_estimators=None, n_jobs=None,\n",
       "              num_parallel_tree=None, random_state=None, ...)"
      ]
     },
     "execution_count": 18,
     "metadata": {},
     "output_type": "execute_result"
    }
   ],
   "source": [
    "xgb = XGBClassifier(enable_categorical=True)\n",
    "xgb.fit(X_train, y_train)"
   ]
  },
  {
   "cell_type": "code",
   "execution_count": 19,
   "id": "9b6595b3-edab-40aa-8353-d07df87626af",
   "metadata": {
    "execution": {
     "iopub.execute_input": "2025-06-24T04:16:08.318109Z",
     "iopub.status.busy": "2025-06-24T04:16:08.316656Z",
     "iopub.status.idle": "2025-06-24T04:16:08.322915Z",
     "shell.execute_reply": "2025-06-24T04:16:08.322247Z",
     "shell.execute_reply.started": "2025-06-24T04:16:08.318076Z"
    }
   },
   "outputs": [],
   "source": [
    "pred_definition = DataDefinition(\n",
    "    classification=[BinaryClassification(target=\"is_fraud\",\n",
    "                                         prediction_labels=\"prediction\",\n",
    "                                         prediction_probas=\"prob\",\n",
    "                                         pos_label=1)],\n",
    "    id_column=\"transaction_id\",\n",
    "    timestamp=\"cod_month\",\n",
    "    categorical_columns=[\"is_fraud\", \"prediction\", \"card_present\"],\n",
    "    numerical_columns=[\"trx_vel_last_1mths\", \"trx_vel_last_2mths\",\n",
    "                       \"amt_vel_last_1mths\", \"amt_vel_last_2mths\",\n",
    "                       \"prob\"]\n",
    ")"
   ]
  },
  {
   "cell_type": "code",
   "execution_count": 31,
   "id": "7799131b-95fd-47d9-9a57-90513c45a4c3",
   "metadata": {
    "execution": {
     "iopub.execute_input": "2025-06-24T04:24:29.900874Z",
     "iopub.status.busy": "2025-06-24T04:24:29.900590Z",
     "iopub.status.idle": "2025-06-24T04:24:30.758958Z",
     "shell.execute_reply": "2025-06-24T04:24:30.757325Z",
     "shell.execute_reply.started": "2025-06-24T04:24:29.900852Z"
    }
   },
   "outputs": [],
   "source": [
    "# Building datasets\n",
    "df_train = pd.concat([X_train, y_train], axis=1)\n",
    "df_train[\"prediction\"] = xgb.predict(X_train)\n",
    "df_train[\"prediction\"] = df_train[\"prediction\"].astype(\"category\")\n",
    "df_train[\"prob\"] = xgb.predict_proba(X_train)[:, -1]\n",
    "reference = Dataset.from_pandas(df_train, data_definition=pred_definition)\n",
    "\n",
    "df_test = pd.concat([X_test, y_test], axis=1)\n",
    "df_test[\"prediction\"] = xgb.predict(X_test)\n",
    "df_test[\"prediction\"] = df_test[\"prediction\"].astype(\"category\")\n",
    "df_test[\"prob\"] = xgb.predict_proba(X_test)[:, -1]\n",
    "current = Dataset.from_pandas(df_test, data_definition=pred_definition)"
   ]
  },
  {
   "cell_type": "markdown",
   "id": "6a5ff61a-31b6-44b2-93aa-e22e0ffdc7ed",
   "metadata": {},
   "source": [
    "# DATA DRIFT DETECTION"
   ]
  },
  {
   "cell_type": "code",
   "execution_count": 39,
   "id": "d22511b7-e693-42f7-8573-24dab07d608f",
   "metadata": {
    "execution": {
     "iopub.execute_input": "2025-06-24T04:30:02.271039Z",
     "iopub.status.busy": "2025-06-24T04:30:02.270612Z",
     "iopub.status.idle": "2025-06-24T04:30:02.316544Z",
     "shell.execute_reply": "2025-06-24T04:30:02.312337Z",
     "shell.execute_reply.started": "2025-06-24T04:30:02.271011Z"
    }
   },
   "outputs": [],
   "source": [
    "from evidently.presets import DataDriftPreset\n",
    "from monitoring_utils import detect_data_drift"
   ]
  },
  {
   "cell_type": "code",
   "execution_count": 40,
   "id": "f69eff97-d33d-4db8-b5e6-041b7987f027",
   "metadata": {
    "execution": {
     "iopub.execute_input": "2025-06-24T04:30:05.049309Z",
     "iopub.status.busy": "2025-06-24T04:30:05.048669Z",
     "iopub.status.idle": "2025-06-24T04:30:05.054223Z",
     "shell.execute_reply": "2025-06-24T04:30:05.052851Z",
     "shell.execute_reply.started": "2025-06-24T04:30:05.049253Z"
    }
   },
   "outputs": [],
   "source": [
    "# % of valid drifted columns (no IDs neither TIMESTAMPS) to consider the dataset drifted\n",
    "drift_share = 0.3"
   ]
  },
  {
   "cell_type": "markdown",
   "id": "4283e204-6a6a-4321-a112-5bab11dbc08b",
   "metadata": {},
   "source": [
    "## Without data drift"
   ]
  },
  {
   "cell_type": "code",
   "execution_count": 41,
   "id": "c43bcf09-2f23-4303-ad4f-acc62526d641",
   "metadata": {
    "execution": {
     "iopub.execute_input": "2025-06-24T04:30:12.781137Z",
     "iopub.status.busy": "2025-06-24T04:30:12.780756Z",
     "iopub.status.idle": "2025-06-24T04:30:14.991797Z",
     "shell.execute_reply": "2025-06-24T04:30:14.991096Z",
     "shell.execute_reply.started": "2025-06-24T04:30:12.781113Z"
    }
   },
   "outputs": [
    {
     "name": "stdout",
     "output_type": "stream",
     "text": [
      "Report's link: https://nahpmgpxmm.us-east-1.awsapprunner.com/projects/01979e90-bceb-72e9-ab90-5c3b49cc3896/reports/0197a033-6f7f-7158-ad72-eb4f28697566\n",
      "Report's id: 0197a033-6f7f-7158-ad72-eb4f28697566\n"
     ]
    }
   ],
   "source": [
    "data_drift_report = Report([DataDriftPreset(drift_share=drift_share)], tags=[\"Data drift\"])\n",
    "data_drift_run = data_drift_report.run(current, reference)\n",
    "data_drift_run.save_html(\"data_drift.html\")\n",
    "data_drift_ref = ws.add_run(project.id, data_drift_run)\n",
    "print(f\"Report's link: {data_drift_ref.url}\")\n",
    "print(f\"Report's id: {data_drift_ref.id}\")\n",
    "#ws.delete_run(project.id, data_drift_ref.id)"
   ]
  },
  {
   "cell_type": "code",
   "execution_count": 42,
   "id": "a2b62d21-480e-4af8-857b-f7b65fe6f002",
   "metadata": {
    "execution": {
     "iopub.execute_input": "2025-06-24T04:30:16.674738Z",
     "iopub.status.busy": "2025-06-24T04:30:16.674380Z",
     "iopub.status.idle": "2025-06-24T04:30:16.681560Z",
     "shell.execute_reply": "2025-06-24T04:30:16.680784Z",
     "shell.execute_reply.started": "2025-06-24T04:30:16.674714Z"
    }
   },
   "outputs": [
    {
     "data": {
      "text/plain": [
       "False"
      ]
     },
     "execution_count": 42,
     "metadata": {},
     "output_type": "execute_result"
    }
   ],
   "source": [
    "detect_data_drift(data_drift_run)"
   ]
  },
  {
   "cell_type": "markdown",
   "id": "13cc1344-3bf2-4bf9-b9f5-7fec02ef1ffd",
   "metadata": {
    "execution": {
     "iopub.execute_input": "2025-06-24T04:19:18.234176Z",
     "iopub.status.busy": "2025-06-24T04:19:18.233262Z",
     "iopub.status.idle": "2025-06-24T04:19:18.238401Z",
     "shell.execute_reply": "2025-06-24T04:19:18.236893Z",
     "shell.execute_reply.started": "2025-06-24T04:19:18.234144Z"
    }
   },
   "source": [
    "## With data drift"
   ]
  },
  {
   "cell_type": "code",
   "execution_count": 43,
   "id": "0d740f5f-322c-4e1a-a50e-95976a6c3afd",
   "metadata": {
    "execution": {
     "iopub.execute_input": "2025-06-24T04:30:19.348636Z",
     "iopub.status.busy": "2025-06-24T04:30:19.348269Z",
     "iopub.status.idle": "2025-06-24T04:30:19.390667Z",
     "shell.execute_reply": "2025-06-24T04:30:19.389867Z",
     "shell.execute_reply.started": "2025-06-24T04:30:19.348610Z"
    }
   },
   "outputs": [],
   "source": [
    "df_drifted = df_test.copy()\n",
    "numeric_cols = [\"trx_vel_last_1mths\", \"trx_vel_last_2mths\", \"amt_vel_last_1mths\", \"amt_vel_last_2mths\"]\n",
    "noise = 100\n",
    "for c in numeric_cols:\n",
    "    df_drifted[c] += noise\n",
    "drifted_current = Dataset.from_pandas(df_drifted, data_definition=pred_definition)"
   ]
  },
  {
   "cell_type": "code",
   "execution_count": 44,
   "id": "5cfc0938-7b24-43e7-98f3-dce047b29aca",
   "metadata": {
    "execution": {
     "iopub.execute_input": "2025-06-24T04:30:34.319822Z",
     "iopub.status.busy": "2025-06-24T04:30:34.319542Z",
     "iopub.status.idle": "2025-06-24T04:30:36.548902Z",
     "shell.execute_reply": "2025-06-24T04:30:36.548185Z",
     "shell.execute_reply.started": "2025-06-24T04:30:34.319802Z"
    }
   },
   "outputs": [
    {
     "name": "stdout",
     "output_type": "stream",
     "text": [
      "Report's link: https://nahpmgpxmm.us-east-1.awsapprunner.com/projects/01979e90-bceb-72e9-ab90-5c3b49cc3896/reports/0197a033-c3b5-710e-83d3-1de253723b45\n",
      "Report's id: 0197a033-c3b5-710e-83d3-1de253723b45\n"
     ]
    }
   ],
   "source": [
    "data_drift_report = Report([DataDriftPreset(drift_share=drift_share)], tags=[\"Data drift\"])\n",
    "data_drift_run = data_drift_report.run(drifted_current, reference)\n",
    "data_drift_run.save_html(\"data_drift.html\")\n",
    "data_drift_ref = ws.add_run(project.id, data_drift_run)\n",
    "print(f\"Report's link: {data_drift_ref.url}\")\n",
    "print(f\"Report's id: {data_drift_ref.id}\")\n",
    "#ws.delete_run(project.id, data_drift_ref.id)"
   ]
  },
  {
   "cell_type": "code",
   "execution_count": 45,
   "id": "a463bdd9-06f0-4d4e-9725-852b288bc535",
   "metadata": {
    "execution": {
     "iopub.execute_input": "2025-06-24T04:30:39.135360Z",
     "iopub.status.busy": "2025-06-24T04:30:39.135073Z",
     "iopub.status.idle": "2025-06-24T04:30:39.142231Z",
     "shell.execute_reply": "2025-06-24T04:30:39.141378Z",
     "shell.execute_reply.started": "2025-06-24T04:30:39.135338Z"
    }
   },
   "outputs": [
    {
     "data": {
      "text/plain": [
       "True"
      ]
     },
     "execution_count": 45,
     "metadata": {},
     "output_type": "execute_result"
    }
   ],
   "source": [
    "detect_data_drift(data_drift_run)"
   ]
  },
  {
   "cell_type": "markdown",
   "id": "bb93dbfb-b8f1-4fec-adc3-99fe64f66d79",
   "metadata": {},
   "source": [
    "# CONCEPT DRIFT DETECTION"
   ]
  },
  {
   "cell_type": "code",
   "execution_count": 47,
   "id": "082b7e24-1212-4353-9c68-d1bd7fa556e5",
   "metadata": {
    "execution": {
     "iopub.execute_input": "2025-06-24T04:39:21.356640Z",
     "iopub.status.busy": "2025-06-24T04:39:21.356249Z",
     "iopub.status.idle": "2025-06-24T04:39:21.361420Z",
     "shell.execute_reply": "2025-06-24T04:39:21.359223Z",
     "shell.execute_reply.started": "2025-06-24T04:39:21.356617Z"
    }
   },
   "outputs": [],
   "source": [
    "from evidently.presets import ClassificationPreset\n",
    "from monitoring_utils import get_metric_dict, get_metric"
   ]
  },
  {
   "cell_type": "code",
   "execution_count": 49,
   "id": "7a13cfdb-b0df-4ced-a926-f7d7095423aa",
   "metadata": {
    "execution": {
     "iopub.execute_input": "2025-06-24T04:39:33.980830Z",
     "iopub.status.busy": "2025-06-24T04:39:33.980459Z",
     "iopub.status.idle": "2025-06-24T04:39:36.054126Z",
     "shell.execute_reply": "2025-06-24T04:39:36.053232Z",
     "shell.execute_reply.started": "2025-06-24T04:39:33.980807Z"
    }
   },
   "outputs": [
    {
     "name": "stdout",
     "output_type": "stream",
     "text": [
      "Report's link: https://nahpmgpxmm.us-east-1.awsapprunner.com/projects/01979e90-bceb-72e9-ab90-5c3b49cc3896/reports/0197a03b-ff46-76d0-8c14-7aeb9278b5d5\n",
      "Report's id: 0197a03b-ff46-76d0-8c14-7aeb9278b5d5\n"
     ]
    }
   ],
   "source": [
    "concept_drift_report = Report([ClassificationPreset()], tags=[\"Concept drift\"])\n",
    "concept_drift_run = concept_drift_report.run(current, reference)\n",
    "concept_drift_run.save_html(\"concept_drift.html\")\n",
    "concept_drift_ref = ws.add_run(project.id, concept_drift_run)\n",
    "print(f\"Report's link: {concept_drift_ref.url}\")\n",
    "print(f\"Report's id: {concept_drift_ref.id}\")"
   ]
  },
  {
   "cell_type": "code",
   "execution_count": 50,
   "id": "56517878-4a40-4198-ac2a-7f5612b65676",
   "metadata": {
    "execution": {
     "iopub.execute_input": "2025-06-24T04:39:38.206543Z",
     "iopub.status.busy": "2025-06-24T04:39:38.205511Z",
     "iopub.status.idle": "2025-06-24T04:39:38.211882Z",
     "shell.execute_reply": "2025-06-24T04:39:38.211256Z",
     "shell.execute_reply.started": "2025-06-24T04:39:38.206514Z"
    }
   },
   "outputs": [
    {
     "data": {
      "text/plain": [
       "{'Accuracy': 'e4f2ea2dab7ab3a65b16ef5124d02db4',\n",
       " 'Precision': '3c2d79a01c4f6539c105bc7dff803faa',\n",
       " 'Recall': '11c1894b301e560af740a01ee9739c2a',\n",
       " 'F1Score': '2df7cb543daa4f42d1d5cdad5bb551ae',\n",
       " 'RocAuc': '836d15857ce444b246783aad42a94779',\n",
       " 'LogLoss': '275d2d67f1d9d892b74d8d9bdc07c233',\n",
       " 'TPR': 'aede79b5b66270f86918a2111b694162',\n",
       " 'TNR': '48b057cb0301dad5740a4a1a25050ffe',\n",
       " 'FPR': '2e6d045688c97855c5661e6a8f6bd2e5',\n",
       " 'FNR': 'd183f8fb51722080c04c08958a4579ff',\n",
       " 'F1ByLabel': '960da7cc5ae6dfee13853a0b222466ca',\n",
       " 'PrecisionByLabel': '57f465d9f518c33f7672e42e807a1737',\n",
       " 'RecallByLabel': '66b666a06110f2e57883b2a7365fcf45',\n",
       " 'RocAucByLabel': 'c1d27bd176ffbcc8c6b5871f2d88e6e6'}"
      ]
     },
     "execution_count": 50,
     "metadata": {},
     "output_type": "execute_result"
    }
   ],
   "source": [
    "metric_dict = get_metric_dict(concept_drift_run)\n",
    "metric_dict"
   ]
  },
  {
   "cell_type": "code",
   "execution_count": null,
   "id": "56463005-2bf4-4bc8-98d3-a2561974b483",
   "metadata": {},
   "outputs": [],
   "source": [
    "cur_logloss, ref_logloss = get_metric(concept_drift_run, metric_dict[\"RocAuc\"])\n",
    "print(cur_logloss, ref_logloss)"
   ]
  },
  {
   "cell_type": "code",
   "execution_count": 147,
   "id": "87769c7a-7457-4717-badd-32ebd6ae4783",
   "metadata": {
    "execution": {
     "iopub.execute_input": "2025-06-24T03:10:17.368598Z",
     "iopub.status.busy": "2025-06-24T03:10:17.368250Z",
     "iopub.status.idle": "2025-06-24T03:10:17.372454Z",
     "shell.execute_reply": "2025-06-24T03:10:17.371332Z",
     "shell.execute_reply.started": "2025-06-24T03:10:17.368563Z"
    }
   },
   "outputs": [],
   "source": [
    "delta = 0.04"
   ]
  },
  {
   "cell_type": "code",
   "execution_count": 148,
   "id": "d9b68168-a84e-4e31-aa3d-ecc67b3480b8",
   "metadata": {
    "execution": {
     "iopub.execute_input": "2025-06-24T03:10:19.911847Z",
     "iopub.status.busy": "2025-06-24T03:10:19.911010Z",
     "iopub.status.idle": "2025-06-24T03:10:19.915866Z",
     "shell.execute_reply": "2025-06-24T03:10:19.914779Z",
     "shell.execute_reply.started": "2025-06-24T03:10:19.911818Z"
    }
   },
   "outputs": [
    {
     "name": "stdout",
     "output_type": "stream",
     "text": [
      "Significant concept drift detected\n"
     ]
    }
   ],
   "source": [
    "if abs(ref_logloss-cur_logloss) > delta:\n",
    "    if cur_logloss < ref_logloss:\n",
    "        print(\"Significant concept drift detected\")\n",
    "else:\n",
    "    print(\"No significant concept drift\")"
   ]
  },
  {
   "cell_type": "markdown",
   "id": "f30d2726-6611-459e-b8ab-32590c0b978a",
   "metadata": {},
   "source": [
    "# ALERTING"
   ]
  },
  {
   "cell_type": "code",
   "execution_count": 51,
   "id": "bcd1259d-d68d-401c-8608-85b7e3e5d9ce",
   "metadata": {
    "execution": {
     "iopub.execute_input": "2025-06-24T04:43:45.181062Z",
     "iopub.status.busy": "2025-06-24T04:43:45.180256Z",
     "iopub.status.idle": "2025-06-24T04:43:45.185506Z",
     "shell.execute_reply": "2025-06-24T04:43:45.184541Z",
     "shell.execute_reply.started": "2025-06-24T04:43:45.181029Z"
    }
   },
   "outputs": [],
   "source": [
    "import boto3"
   ]
  },
  {
   "cell_type": "code",
   "execution_count": 52,
   "id": "f080bbf5-f155-4886-b413-42ec0527ed3a",
   "metadata": {
    "execution": {
     "iopub.execute_input": "2025-06-24T04:59:38.090078Z",
     "iopub.status.busy": "2025-06-24T04:59:38.089559Z",
     "iopub.status.idle": "2025-06-24T04:59:38.277824Z",
     "shell.execute_reply": "2025-06-24T04:59:38.276959Z",
     "shell.execute_reply.started": "2025-06-24T04:59:38.090049Z"
    }
   },
   "outputs": [],
   "source": [
    "sns = boto3.client(\"sns\")\n",
    "response = sns.create_topic(Name=\"NewTopic\")\n",
    "topic_arn = response[\"TopicArn\"]"
   ]
  },
  {
   "cell_type": "code",
   "execution_count": null,
   "id": "e4ed13d2-cb60-437c-8975-f050818ed8d9",
   "metadata": {
    "execution": {
     "iopub.execute_input": "2025-06-24T04:59:41.528982Z",
     "iopub.status.busy": "2025-06-24T04:59:41.528459Z",
     "iopub.status.idle": "2025-06-24T04:59:41.533837Z",
     "shell.execute_reply": "2025-06-24T04:59:41.532916Z",
     "shell.execute_reply.started": "2025-06-24T04:59:41.528956Z"
    }
   },
   "outputs": [],
   "source": [
    "endpoint = \"xxxxxx@gmail.com\""
   ]
  },
  {
   "cell_type": "code",
   "execution_count": null,
   "id": "f73205c5-d582-4df5-9b4d-23fb1a0dc0b7",
   "metadata": {
    "execution": {
     "iopub.execute_input": "2025-06-24T04:59:49.304107Z",
     "iopub.status.busy": "2025-06-24T04:59:49.303493Z",
     "iopub.status.idle": "2025-06-24T04:59:49.596725Z",
     "shell.execute_reply": "2025-06-24T04:59:49.596005Z",
     "shell.execute_reply.started": "2025-06-24T04:59:49.304081Z"
    }
   },
   "outputs": [
    {
     "name": "stdout",
     "output_type": "stream",
     "text": [
      "Registering email\n"
     ]
    }
   ],
   "source": [
    "sns.list_subscriptions_by_topic(TopicArn=topic_arn)[\"Subscriptions\"]\n",
    "my_endpoint = [e[\"Endpoint\"] for e in sns.list_subscriptions_by_topic(TopicArn=topic_arn)[\"Subscriptions\"] if e[\"Endpoint\"]==endpoint] \n",
    "if my_endpoint:\n",
    "    print(\"Email already registered\")\n",
    "else:\n",
    "    print(\"Registering email\")\n",
    "    sns.subscribe(\n",
    "        TopicArn=topic_arn,\n",
    "        Protocol=\"email\",\n",
    "        Endpoint=endpoint\n",
    "    )"
   ]
  },
  {
   "cell_type": "code",
   "execution_count": 58,
   "id": "f4a5c507-8014-45fa-90aa-3b0d1287c7b6",
   "metadata": {
    "execution": {
     "iopub.execute_input": "2025-06-24T05:04:41.306142Z",
     "iopub.status.busy": "2025-06-24T05:04:41.305837Z",
     "iopub.status.idle": "2025-06-24T05:04:41.370907Z",
     "shell.execute_reply": "2025-06-24T05:04:41.370162Z",
     "shell.execute_reply.started": "2025-06-24T05:04:41.306121Z"
    }
   },
   "outputs": [],
   "source": [
    "if detect_data_drift(data_drift_run):\n",
    "    sns.publish(TopicArn=topic_arn,\n",
    "                Subject=\"Data drift detection on Fraud Detection model\",\n",
    "                Message=f\"Check more details on the report: {data_drift_ref.url}\"\n",
    "    )"
   ]
  }
 ],
 "metadata": {
  "kernelspec": {
   "display_name": "Python 3 (ipykernel)",
   "language": "python",
   "name": "python3"
  },
  "language_info": {
   "codemirror_mode": {
    "name": "ipython",
    "version": 3
   },
   "file_extension": ".py",
   "mimetype": "text/x-python",
   "name": "python",
   "nbconvert_exporter": "python",
   "pygments_lexer": "ipython3",
   "version": "3.12.9"
  }
 },
 "nbformat": 4,
 "nbformat_minor": 5
}
