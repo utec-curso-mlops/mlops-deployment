{
 "cells": [
  {
   "cell_type": "code",
   "execution_count": 57,
   "id": "7cc0df22-7f7f-4812-98ab-afe3cf862b14",
   "metadata": {
    "execution": {
     "iopub.execute_input": "2025-06-24T22:50:28.716833Z",
     "iopub.status.busy": "2025-06-24T22:50:28.716346Z",
     "iopub.status.idle": "2025-06-24T22:50:50.774340Z",
     "shell.execute_reply": "2025-06-24T22:50:50.773643Z",
     "shell.execute_reply.started": "2025-06-24T22:50:28.716806Z"
    }
   },
   "outputs": [
    {
     "name": "stdout",
     "output_type": "stream",
     "text": [
      "\u001b[31mERROR: pip's dependency resolver does not currently take into account all the packages that are installed. This behaviour is the source of the following dependency conflicts.\n",
      "dash 2.18.1 requires dash-core-components==2.0.0, which is not installed.\n",
      "dash 2.18.1 requires dash-html-components==2.0.0, which is not installed.\n",
      "dash 2.18.1 requires dash-table==5.0.0, which is not installed.\n",
      "dash 2.18.1 requires Flask<3.1,>=1.0.4, but you have flask 3.1.0 which is incompatible.\n",
      "dash 2.18.1 requires Werkzeug<3.1, but you have werkzeug 3.1.3 which is incompatible.\n",
      "sparkmagic 0.21.0 requires pandas<2.0.0,>=0.17.1, but you have pandas 2.2.3 which is incompatible.\u001b[0m\u001b[31m\n",
      "\u001b[0m"
     ]
    }
   ],
   "source": [
    "!pip install awswrangler==3.12.0 evidently==0.7.8 -q"
   ]
  },
  {
   "cell_type": "code",
   "execution_count": 78,
   "id": "37e395b9-c659-4de1-a1db-55061d6b06ca",
   "metadata": {
    "execution": {
     "iopub.execute_input": "2025-06-24T23:05:01.380929Z",
     "iopub.status.busy": "2025-06-24T23:05:01.377376Z",
     "iopub.status.idle": "2025-06-24T23:05:01.451415Z",
     "shell.execute_reply": "2025-06-24T23:05:01.447449Z",
     "shell.execute_reply.started": "2025-06-24T23:05:01.380882Z"
    }
   },
   "outputs": [],
   "source": [
    "import boto3\n",
    "from botocore.exceptions import ClientError\n",
    "from decimal import Decimal\n",
    "import pandas as pd\n",
    "import awswrangler as wr\n",
    "from sklearn.metrics import log_loss, roc_auc_score"
   ]
  },
  {
   "cell_type": "markdown",
   "id": "da75223d-5f98-40f6-847d-13bf0ce01e54",
   "metadata": {},
   "source": [
    "# READING LOGGING"
   ]
  },
  {
   "cell_type": "code",
   "execution_count": 51,
   "id": "e6ffe8b7-f45b-4823-b396-38e0134f4dc6",
   "metadata": {
    "execution": {
     "iopub.execute_input": "2025-06-24T22:49:23.957737Z",
     "iopub.status.busy": "2025-06-24T22:49:23.957474Z",
     "iopub.status.idle": "2025-06-24T22:49:23.961236Z",
     "shell.execute_reply": "2025-06-24T22:49:23.960554Z",
     "shell.execute_reply.started": "2025-06-24T22:49:23.957716Z"
    }
   },
   "outputs": [],
   "source": [
    "LOG_TABLE = \"mlops-utec-table-fraud-faas-log-rickpuma\" # User your own table"
   ]
  },
  {
   "cell_type": "code",
   "execution_count": 52,
   "id": "0e0d8091-03f8-4eba-a165-3bacf4dff326",
   "metadata": {
    "execution": {
     "iopub.execute_input": "2025-06-24T22:49:27.924730Z",
     "iopub.status.busy": "2025-06-24T22:49:27.924283Z",
     "iopub.status.idle": "2025-06-24T22:49:27.934542Z",
     "shell.execute_reply": "2025-06-24T22:49:27.933479Z",
     "shell.execute_reply.started": "2025-06-24T22:49:27.924691Z"
    }
   },
   "outputs": [],
   "source": [
    "dynamodb_read = boto3.client('dynamodb')"
   ]
  },
  {
   "cell_type": "code",
   "execution_count": 66,
   "id": "766d298e-27a1-4498-9715-920fb8391aae",
   "metadata": {
    "execution": {
     "iopub.execute_input": "2025-06-24T22:56:54.448748Z",
     "iopub.status.busy": "2025-06-24T22:56:54.448425Z",
     "iopub.status.idle": "2025-06-24T22:56:54.492856Z",
     "shell.execute_reply": "2025-06-24T22:56:54.491940Z",
     "shell.execute_reply.started": "2025-06-24T22:56:54.448722Z"
    }
   },
   "outputs": [],
   "source": [
    "response = dynamodb_read.scan(TableName=LOG_TABLE)"
   ]
  },
  {
   "cell_type": "code",
   "execution_count": 67,
   "id": "56880a0e-04fc-495c-8858-d8a20a08e3df",
   "metadata": {
    "execution": {
     "iopub.execute_input": "2025-06-24T22:56:56.686040Z",
     "iopub.status.busy": "2025-06-24T22:56:56.685747Z",
     "iopub.status.idle": "2025-06-24T22:56:56.690775Z",
     "shell.execute_reply": "2025-06-24T22:56:56.689652Z",
     "shell.execute_reply.started": "2025-06-24T22:56:56.686016Z"
    }
   },
   "outputs": [],
   "source": [
    "def flatten_item(item):\n",
    "    return {k: list(v.values())[0] for k, v in item.items()}"
   ]
  },
  {
   "cell_type": "code",
   "execution_count": 68,
   "id": "1e4dd921-c02c-45ee-9006-2e76378fb270",
   "metadata": {
    "execution": {
     "iopub.execute_input": "2025-06-24T22:56:57.687222Z",
     "iopub.status.busy": "2025-06-24T22:56:57.686941Z",
     "iopub.status.idle": "2025-06-24T22:56:57.692999Z",
     "shell.execute_reply": "2025-06-24T22:56:57.691280Z",
     "shell.execute_reply.started": "2025-06-24T22:56:57.687202Z"
    }
   },
   "outputs": [],
   "source": [
    "flat_items = [flatten_item(item) for item in response['Items']]\n",
    "# Convert to DataFrame\n",
    "df_pred = pd.DataFrame(flat_items)"
   ]
  },
  {
   "cell_type": "code",
   "execution_count": 69,
   "id": "6ed5ea26-4d3f-4c7d-b344-24fef5fb2910",
   "metadata": {
    "execution": {
     "iopub.execute_input": "2025-06-24T22:56:59.613706Z",
     "iopub.status.busy": "2025-06-24T22:56:59.613340Z",
     "iopub.status.idle": "2025-06-24T22:56:59.625522Z",
     "shell.execute_reply": "2025-06-24T22:56:59.624769Z",
     "shell.execute_reply.started": "2025-06-24T22:56:59.613682Z"
    }
   },
   "outputs": [
    {
     "data": {
      "text/html": [
       "<div>\n",
       "<style scoped>\n",
       "    .dataframe tbody tr th:only-of-type {\n",
       "        vertical-align: middle;\n",
       "    }\n",
       "\n",
       "    .dataframe tbody tr th {\n",
       "        vertical-align: top;\n",
       "    }\n",
       "\n",
       "    .dataframe thead th {\n",
       "        text-align: right;\n",
       "    }\n",
       "</style>\n",
       "<table border=\"1\" class=\"dataframe\">\n",
       "  <thead>\n",
       "    <tr style=\"text-align: right;\">\n",
       "      <th></th>\n",
       "      <th>trx_vel_last_2mths</th>\n",
       "      <th>amt_vel_last_1mths</th>\n",
       "      <th>card_present</th>\n",
       "      <th>cod_month</th>\n",
       "      <th>trx_vel_last_1mths</th>\n",
       "      <th>transaction_id</th>\n",
       "      <th>prediction</th>\n",
       "      <th>amt_vel_last_2mths</th>\n",
       "    </tr>\n",
       "  </thead>\n",
       "  <tbody>\n",
       "    <tr>\n",
       "      <th>0</th>\n",
       "      <td>10</td>\n",
       "      <td>640.6695</td>\n",
       "      <td>1</td>\n",
       "      <td>202501</td>\n",
       "      <td>4</td>\n",
       "      <td>65930a764da2</td>\n",
       "      <td>0.0001422771019861102</td>\n",
       "      <td>1391.082</td>\n",
       "    </tr>\n",
       "    <tr>\n",
       "      <th>1</th>\n",
       "      <td>7</td>\n",
       "      <td>450.68726</td>\n",
       "      <td>1</td>\n",
       "      <td>202501</td>\n",
       "      <td>3</td>\n",
       "      <td>65faa84a083c</td>\n",
       "      <td>0.0001422771019861102</td>\n",
       "      <td>983.5444</td>\n",
       "    </tr>\n",
       "  </tbody>\n",
       "</table>\n",
       "</div>"
      ],
      "text/plain": [
       "  trx_vel_last_2mths amt_vel_last_1mths card_present cod_month  \\\n",
       "0                 10           640.6695            1    202501   \n",
       "1                  7          450.68726            1    202501   \n",
       "\n",
       "  trx_vel_last_1mths transaction_id             prediction amt_vel_last_2mths  \n",
       "0                  4   65930a764da2  0.0001422771019861102           1391.082  \n",
       "1                  3   65faa84a083c  0.0001422771019861102           983.5444  "
      ]
     },
     "execution_count": 69,
     "metadata": {},
     "output_type": "execute_result"
    }
   ],
   "source": [
    "df_pred.head()"
   ]
  },
  {
   "cell_type": "markdown",
   "id": "4442c9f6-a2a4-4ad3-8d44-263ec49a250e",
   "metadata": {},
   "source": [
    "# READING FEEDBACK"
   ]
  },
  {
   "cell_type": "code",
   "execution_count": 61,
   "id": "7c48cefe-d3c5-4856-a263-68a8f5b1feb7",
   "metadata": {
    "execution": {
     "iopub.execute_input": "2025-06-24T22:52:28.184421Z",
     "iopub.status.busy": "2025-06-24T22:52:28.183968Z",
     "iopub.status.idle": "2025-06-24T22:52:28.188241Z",
     "shell.execute_reply": "2025-06-24T22:52:28.187237Z",
     "shell.execute_reply.started": "2025-06-24T22:52:28.184291Z"
    }
   },
   "outputs": [],
   "source": [
    "query = \"\"\"\n",
    "    SELECT  transaction_id\n",
    "            ,is_fraud\n",
    "    FROM    RISK_MANAGEMENT.CREDIT_CARD_FEEDBACK\n",
    "\"\"\""
   ]
  },
  {
   "cell_type": "code",
   "execution_count": 70,
   "id": "99178c43-7e76-4f75-bbb8-a745b4141929",
   "metadata": {
    "execution": {
     "iopub.execute_input": "2025-06-24T22:57:21.768453Z",
     "iopub.status.busy": "2025-06-24T22:57:21.767780Z",
     "iopub.status.idle": "2025-06-24T22:57:24.836919Z",
     "shell.execute_reply": "2025-06-24T22:57:24.836064Z",
     "shell.execute_reply.started": "2025-06-24T22:57:21.768427Z"
    }
   },
   "outputs": [],
   "source": [
    "df_feedback = wr.athena.read_sql_query(sql=query, database=\"risk_management\")"
   ]
  },
  {
   "cell_type": "code",
   "execution_count": 72,
   "id": "4b10deb4-342b-4b49-a867-eddb4174e9de",
   "metadata": {
    "execution": {
     "iopub.execute_input": "2025-06-24T22:57:54.340261Z",
     "iopub.status.busy": "2025-06-24T22:57:54.339943Z",
     "iopub.status.idle": "2025-06-24T22:57:54.355268Z",
     "shell.execute_reply": "2025-06-24T22:57:54.354475Z",
     "shell.execute_reply.started": "2025-06-24T22:57:54.340239Z"
    }
   },
   "outputs": [],
   "source": [
    "df_report = df_pred.merge(df_feedback, on='transaction_id')"
   ]
  },
  {
   "cell_type": "code",
   "execution_count": 73,
   "id": "e4956ccb-3a44-442c-ac6b-c5addc0eed1a",
   "metadata": {
    "execution": {
     "iopub.execute_input": "2025-06-24T22:58:13.141704Z",
     "iopub.status.busy": "2025-06-24T22:58:13.140983Z",
     "iopub.status.idle": "2025-06-24T22:58:13.155043Z",
     "shell.execute_reply": "2025-06-24T22:58:13.154382Z",
     "shell.execute_reply.started": "2025-06-24T22:58:13.141673Z"
    }
   },
   "outputs": [
    {
     "data": {
      "text/html": [
       "<div>\n",
       "<style scoped>\n",
       "    .dataframe tbody tr th:only-of-type {\n",
       "        vertical-align: middle;\n",
       "    }\n",
       "\n",
       "    .dataframe tbody tr th {\n",
       "        vertical-align: top;\n",
       "    }\n",
       "\n",
       "    .dataframe thead th {\n",
       "        text-align: right;\n",
       "    }\n",
       "</style>\n",
       "<table border=\"1\" class=\"dataframe\">\n",
       "  <thead>\n",
       "    <tr style=\"text-align: right;\">\n",
       "      <th></th>\n",
       "      <th>trx_vel_last_2mths</th>\n",
       "      <th>amt_vel_last_1mths</th>\n",
       "      <th>card_present</th>\n",
       "      <th>cod_month</th>\n",
       "      <th>trx_vel_last_1mths</th>\n",
       "      <th>transaction_id</th>\n",
       "      <th>prediction</th>\n",
       "      <th>amt_vel_last_2mths</th>\n",
       "      <th>is_fraud</th>\n",
       "    </tr>\n",
       "  </thead>\n",
       "  <tbody>\n",
       "    <tr>\n",
       "      <th>0</th>\n",
       "      <td>10</td>\n",
       "      <td>640.6695</td>\n",
       "      <td>1</td>\n",
       "      <td>202501</td>\n",
       "      <td>4</td>\n",
       "      <td>65930a764da2</td>\n",
       "      <td>0.0001422771019861102</td>\n",
       "      <td>1391.082</td>\n",
       "      <td>0</td>\n",
       "    </tr>\n",
       "    <tr>\n",
       "      <th>1</th>\n",
       "      <td>7</td>\n",
       "      <td>450.68726</td>\n",
       "      <td>1</td>\n",
       "      <td>202501</td>\n",
       "      <td>3</td>\n",
       "      <td>65faa84a083c</td>\n",
       "      <td>0.0001422771019861102</td>\n",
       "      <td>983.5444</td>\n",
       "      <td>0</td>\n",
       "    </tr>\n",
       "  </tbody>\n",
       "</table>\n",
       "</div>"
      ],
      "text/plain": [
       "  trx_vel_last_2mths amt_vel_last_1mths card_present cod_month  \\\n",
       "0                 10           640.6695            1    202501   \n",
       "1                  7          450.68726            1    202501   \n",
       "\n",
       "  trx_vel_last_1mths transaction_id             prediction amt_vel_last_2mths  \\\n",
       "0                  4   65930a764da2  0.0001422771019861102           1391.082   \n",
       "1                  3   65faa84a083c  0.0001422771019861102           983.5444   \n",
       "\n",
       "   is_fraud  \n",
       "0         0  \n",
       "1         0  "
      ]
     },
     "execution_count": 73,
     "metadata": {},
     "output_type": "execute_result"
    }
   ],
   "source": [
    "df_report"
   ]
  },
  {
   "cell_type": "code",
   "execution_count": null,
   "id": "8aac9b5f-f4c1-4002-8413-12d7e00ab15c",
   "metadata": {},
   "outputs": [],
   "source": [
    "loss = log_loss(y_true, y_pred)"
   ]
  },
  {
   "cell_type": "code",
   "execution_count": 83,
   "id": "e87e1892-7599-4d01-8536-685c937df521",
   "metadata": {
    "execution": {
     "iopub.execute_input": "2025-06-24T23:08:19.311540Z",
     "iopub.status.busy": "2025-06-24T23:08:19.310171Z",
     "iopub.status.idle": "2025-06-24T23:08:19.342996Z",
     "shell.execute_reply": "2025-06-24T23:08:19.334571Z",
     "shell.execute_reply.started": "2025-06-24T23:08:19.311075Z"
    }
   },
   "outputs": [
    {
     "data": {
      "text/plain": [
       "0.00014228722433311518"
      ]
     },
     "execution_count": 83,
     "metadata": {},
     "output_type": "execute_result"
    }
   ],
   "source": [
    "loss = log_loss(df_report['is_fraud'], df_report['prediction'], labels=[0, 1])\n",
    "loss"
   ]
  },
  {
   "cell_type": "code",
   "execution_count": null,
   "id": "bbc896b2-2527-40d7-a5aa-5ee4cf00102d",
   "metadata": {},
   "outputs": [],
   "source": []
  }
 ],
 "metadata": {
  "kernelspec": {
   "display_name": "Python 3 (ipykernel)",
   "language": "python",
   "name": "python3"
  },
  "language_info": {
   "codemirror_mode": {
    "name": "ipython",
    "version": 3
   },
   "file_extension": ".py",
   "mimetype": "text/x-python",
   "name": "python",
   "nbconvert_exporter": "python",
   "pygments_lexer": "ipython3",
   "version": "3.12.9"
  }
 },
 "nbformat": 4,
 "nbformat_minor": 5
}
