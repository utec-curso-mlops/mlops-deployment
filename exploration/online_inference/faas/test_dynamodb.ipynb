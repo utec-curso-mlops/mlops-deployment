{
 "cells": [
  {
   "cell_type": "code",
   "execution_count": 1,
   "id": "b59b684c-fc17-4c08-9e92-2dc29447b102",
   "metadata": {
    "execution": {
     "iopub.execute_input": "2025-06-10T23:28:12.773694Z",
     "iopub.status.busy": "2025-06-10T23:28:12.773321Z",
     "iopub.status.idle": "2025-06-10T23:28:12.907520Z",
     "shell.execute_reply": "2025-06-10T23:28:12.906750Z",
     "shell.execute_reply.started": "2025-06-10T23:28:12.773657Z"
    }
   },
   "outputs": [],
   "source": [
    "import json\n",
    "import boto3"
   ]
  },
  {
   "cell_type": "code",
   "execution_count": 7,
   "id": "11534e4c-88b9-401a-90ea-29af233922ff",
   "metadata": {
    "execution": {
     "iopub.execute_input": "2025-06-10T23:36:22.428619Z",
     "iopub.status.busy": "2025-06-10T23:36:22.427879Z",
     "iopub.status.idle": "2025-06-10T23:36:22.436055Z",
     "shell.execute_reply": "2025-06-10T23:36:22.435526Z",
     "shell.execute_reply.started": "2025-06-10T23:36:22.428590Z"
    }
   },
   "outputs": [],
   "source": [
    "dynamodb = boto3.resource('dynamodb')"
   ]
  },
  {
   "cell_type": "markdown",
   "id": "15684d98-be19-4e20-944b-0d9727b8a68c",
   "metadata": {},
   "source": [
    "# Test read"
   ]
  },
  {
   "cell_type": "code",
   "execution_count": 2,
   "id": "e0778b83-b048-4dee-9a41-809a2c32055b",
   "metadata": {
    "execution": {
     "iopub.execute_input": "2025-06-10T23:28:14.998315Z",
     "iopub.status.busy": "2025-06-10T23:28:14.997249Z",
     "iopub.status.idle": "2025-06-10T23:28:15.140237Z",
     "shell.execute_reply": "2025-06-10T23:28:15.139576Z",
     "shell.execute_reply.started": "2025-06-10T23:28:14.998282Z"
    }
   },
   "outputs": [],
   "source": [
    "table_name = \"mlops-utec-table-fraud-detection\"\n",
    "table = dynamodb.Table(table_name)"
   ]
  },
  {
   "cell_type": "code",
   "execution_count": 3,
   "id": "662b92d3-92a4-4093-bd3e-df7aabf02fa6",
   "metadata": {
    "execution": {
     "iopub.execute_input": "2025-06-10T23:28:17.232981Z",
     "iopub.status.busy": "2025-06-10T23:28:17.232686Z",
     "iopub.status.idle": "2025-06-10T23:28:17.276731Z",
     "shell.execute_reply": "2025-06-10T23:28:17.276097Z",
     "shell.execute_reply.started": "2025-06-10T23:28:17.232961Z"
    }
   },
   "outputs": [],
   "source": [
    "response = table.get_item(Key={'transaction_id': '96ac4e19ab6c'})"
   ]
  },
  {
   "cell_type": "code",
   "execution_count": 6,
   "id": "068f4b9c-c207-44a5-b787-82537cad1731",
   "metadata": {
    "execution": {
     "iopub.execute_input": "2025-06-10T23:29:10.688625Z",
     "iopub.status.busy": "2025-06-10T23:29:10.688054Z",
     "iopub.status.idle": "2025-06-10T23:29:10.694177Z",
     "shell.execute_reply": "2025-06-10T23:29:10.693386Z",
     "shell.execute_reply.started": "2025-06-10T23:29:10.688592Z"
    }
   },
   "outputs": [
    {
     "data": {
      "text/plain": [
       "1"
      ]
     },
     "execution_count": 6,
     "metadata": {},
     "output_type": "execute_result"
    }
   ],
   "source": [
    "int(response[\"Item\"][\"card_present\"])"
   ]
  },
  {
   "cell_type": "markdown",
   "id": "1aa73b5b-74cf-49b0-945d-525375b7b59f",
   "metadata": {},
   "source": [
    "# Test write"
   ]
  },
  {
   "cell_type": "code",
   "execution_count": 13,
   "id": "d2bd5f76-44de-465f-ba3c-3d1ff82e0088",
   "metadata": {
    "execution": {
     "iopub.execute_input": "2025-06-10T23:39:45.379465Z",
     "iopub.status.busy": "2025-06-10T23:39:45.379188Z",
     "iopub.status.idle": "2025-06-10T23:39:45.382791Z",
     "shell.execute_reply": "2025-06-10T23:39:45.382131Z",
     "shell.execute_reply.started": "2025-06-10T23:39:45.379445Z"
    }
   },
   "outputs": [],
   "source": [
    "from decimal import Decimal"
   ]
  },
  {
   "cell_type": "code",
   "execution_count": 8,
   "id": "355abff1-5ea8-452d-b72e-20e392b0e4ce",
   "metadata": {
    "execution": {
     "iopub.execute_input": "2025-06-10T23:36:47.244015Z",
     "iopub.status.busy": "2025-06-10T23:36:47.243679Z",
     "iopub.status.idle": "2025-06-10T23:36:47.250861Z",
     "shell.execute_reply": "2025-06-10T23:36:47.249775Z",
     "shell.execute_reply.started": "2025-06-10T23:36:47.243984Z"
    }
   },
   "outputs": [],
   "source": [
    "table_name = \"mlops-utec-table-fraud-prediction\"\n",
    "table = dynamodb.Table(table_name)"
   ]
  },
  {
   "cell_type": "code",
   "execution_count": 9,
   "id": "d7d9d547-c199-4853-b1e8-96133cbaad70",
   "metadata": {
    "execution": {
     "iopub.execute_input": "2025-06-10T23:36:49.505238Z",
     "iopub.status.busy": "2025-06-10T23:36:49.504894Z",
     "iopub.status.idle": "2025-06-10T23:36:49.548872Z",
     "shell.execute_reply": "2025-06-10T23:36:49.548124Z",
     "shell.execute_reply.started": "2025-06-10T23:36:49.505216Z"
    }
   },
   "outputs": [],
   "source": [
    "response = table.get_item(Key={'transaction_id': '96ac4e19ab6c'})"
   ]
  },
  {
   "cell_type": "code",
   "execution_count": 11,
   "id": "b0b8d1c9-3ba7-4c75-96cb-0469b5a58978",
   "metadata": {
    "execution": {
     "iopub.execute_input": "2025-06-10T23:36:57.231953Z",
     "iopub.status.busy": "2025-06-10T23:36:57.230060Z",
     "iopub.status.idle": "2025-06-10T23:36:57.236237Z",
     "shell.execute_reply": "2025-06-10T23:36:57.235387Z",
     "shell.execute_reply.started": "2025-06-10T23:36:57.231912Z"
    }
   },
   "outputs": [
    {
     "data": {
      "text/plain": [
       "0.0008004713"
      ]
     },
     "execution_count": 11,
     "metadata": {},
     "output_type": "execute_result"
    }
   ],
   "source": [
    "float(response[\"Item\"][\"prediction\"])"
   ]
  },
  {
   "cell_type": "code",
   "execution_count": 15,
   "id": "2775ad29-2f7b-46eb-80e3-b55426160f86",
   "metadata": {
    "execution": {
     "iopub.execute_input": "2025-06-10T23:41:34.479985Z",
     "iopub.status.busy": "2025-06-10T23:41:34.479687Z",
     "iopub.status.idle": "2025-06-10T23:41:34.521836Z",
     "shell.execute_reply": "2025-06-10T23:41:34.521038Z",
     "shell.execute_reply.started": "2025-06-10T23:41:34.479964Z"
    }
   },
   "outputs": [],
   "source": [
    "item = {'transaction_id': '407c9cb4f0c2', 'prediction': Decimal(\"0.7\")}\n",
    "response = table.put_item(Item=item)"
   ]
  }
 ],
 "metadata": {
  "kernelspec": {
   "display_name": "Python 3 (ipykernel)",
   "language": "python",
   "name": "python3"
  },
  "language_info": {
   "codemirror_mode": {
    "name": "ipython",
    "version": 3
   },
   "file_extension": ".py",
   "mimetype": "text/x-python",
   "name": "python",
   "nbconvert_exporter": "python",
   "pygments_lexer": "ipython3",
   "version": "3.12.9"
  }
 },
 "nbformat": 4,
 "nbformat_minor": 5
}
